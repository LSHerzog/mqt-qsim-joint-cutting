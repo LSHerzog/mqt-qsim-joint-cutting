{
 "cells": [
  {
   "cell_type": "code",
   "execution_count": 5,
   "metadata": {},
   "outputs": [],
   "source": [
    "import qiskit as qk\n",
    "import matplotlib.pyplot as plt\n",
    "import itertools\n",
    "import sys\n",
    "sys.path.append(\"..\")\n",
    "import readout"
   ]
  },
  {
   "cell_type": "code",
   "execution_count": 2,
   "metadata": {},
   "outputs": [],
   "source": [
    "def qsimh_into_qiskit(path:str):\n",
    "    \"\"\"translates the qsimh input layout of a circuit into a qiskit circuit\"\"\"\n",
    "    with open(path, \"r\") as file:\n",
    "        for i,line in enumerate(file):\n",
    "            if i == 0:\n",
    "                q = int(line)\n",
    "                circ = qk.QuantumCircuit(q)\n",
    "            else:\n",
    "                components = line.strip().split()\n",
    "                num = int(components[0])\n",
    "                gate_name = components[1]\n",
    "                lst_params = []\n",
    "                for x in components[2:]:\n",
    "                    if '.' in x or ',' in x:\n",
    "                        # Handle floats, replace comma with dot if necessary\n",
    "                        lst_params.append(float(x.replace(',', '.')))\n",
    "                    else:\n",
    "                        # Handle integers\n",
    "                        lst_params.append(int(x))\n",
    "\n",
    "                #case distinction for the gate names\n",
    "                if gate_name == \"x_1_2\":\n",
    "                    gate_name = \"sx\"\n",
    "                    getattr(circ, gate_name)(*lst_params)\n",
    "                elif gate_name == \"y_1_2\":\n",
    "                    circ.append(qk.circuit.library.YGate().power(1/2), lst_params)\n",
    "                elif gate_name==\"is\":\n",
    "                    gate_name=\"iswap\"\n",
    "                    getattr(circ, gate_name)(*lst_params)\n",
    "                else:\n",
    "                    getattr(circ, gate_name)(*lst_params)\n",
    "\n",
    "    return circ\n",
    "                     \n"
   ]
  },
  {
   "cell_type": "code",
   "execution_count": 3,
   "metadata": {},
   "outputs": [],
   "source": [
    "import re\n",
    "\n",
    "def replace_integers_with_ascending_order(input_file):\n",
    "    \"\"\"\n",
    "    Replaces the gate counter in front of each line with ascending integers to avoid issues with qsim,\n",
    "    and writes the modified content back to the original file.\n",
    "    \"\"\"\n",
    "    with open(input_file, 'r') as file:\n",
    "        lines = file.readlines()\n",
    "\n",
    "    # Open the same file for writing (this will overwrite the file)\n",
    "    with open(input_file, 'w') as file:\n",
    "        # Write the first line (the total count line) as it is\n",
    "        file.write(lines[0])\n",
    "\n",
    "        # Process the remaining lines and write the updated lines back\n",
    "        for i, line in enumerate(lines[1:], start=0):\n",
    "            # Use regex to split at the first space or bracket\n",
    "            match = re.match(r'(\\[?\\d+)(.*)', line.strip())\n",
    "            \n",
    "            if match:\n",
    "                prefix, rest_of_line = match.groups()\n",
    "\n",
    "                # Check if the prefix starts with '['\n",
    "                if prefix.startswith('['):\n",
    "                    new_line = f\"[{i}{rest_of_line}\\n\"\n",
    "                else:\n",
    "                    new_line = f\"{i}{rest_of_line}\\n\"\n",
    "\n",
    "                # Write the new line back to the file\n",
    "                file.write(new_line)\n",
    "\n"
   ]
  },
  {
   "cell_type": "markdown",
   "metadata": {},
   "source": [
    "## CZ based random circuits"
   ]
  },
  {
   "cell_type": "markdown",
   "metadata": {},
   "source": [
    "### 4x5, CZ, `10_0`"
   ]
  },
  {
   "cell_type": "code",
   "execution_count": 8,
   "metadata": {},
   "outputs": [],
   "source": [
    "inst = \"4x5_10_0\"\n",
    "size = \"4x5\"\n",
    "circtype=\"cz_v2\"\n",
    "cutloc=11"
   ]
  },
  {
   "cell_type": "code",
   "execution_count": 152,
   "metadata": {},
   "outputs": [],
   "source": [
    "path = f\"./{circtype}/inst_{inst}.txt\"\n",
    "circ = qsimh_into_qiskit(path)\n",
    "#circ.draw()"
   ]
  },
  {
   "cell_type": "code",
   "execution_count": 153,
   "metadata": {},
   "outputs": [],
   "source": [
    "#after shifting the gates, relabel the gate labels\n",
    "path_block = f\"./{circtype}/inst_{inst}_block_cutloc{cutloc}.txt\"\n",
    "replace_integers_with_ascending_order(path_block)"
   ]
  },
  {
   "cell_type": "code",
   "execution_count": 9,
   "metadata": {},
   "outputs": [
    {
     "name": "stdout",
     "output_type": "stream",
     "text": [
      "./logs_boixo/amps_block_cz_v2_inst_4x5_10_0_cutloc11_rep0.log\n",
      "./logs_boixo/amps_noblock_cz_v2_inst_4x5_10_0_cutloc11_rep0.log\n",
      "All fine within the given tolerance 1e-07\n",
      "All fine within the given tolerance 1e-07\n",
      "--------Full times---------\n",
      "No cut: Mean =1.0121438, std=0.13123667632548458\n",
      "Block: Mean =0.02243434, std=0.0007757323058890874\n",
      "No Block: Mean =0.027405119999999998, std=0.0022026670301250706\n",
      "--------Sim times---------\n",
      "No cut: Mean =1.011263, std=0.13133647860666894\n",
      "Block: Mean =0.02225006, std=0.0007730693205657558\n",
      "No Block: Mean =0.02732218, std=0.0022035503129268453\n",
      "-----Paths-----\n",
      "Block: 32\n",
      "No Block: 64\n",
      "--------Ratios--------\n",
      "S/J = 45.11582689751515\n",
      "T/J = 1.2215701464807966\n"
     ]
    }
   ],
   "source": [
    "#after running the bash file, readout the output files\n",
    "reps=5\n",
    "d_flag=2000\n",
    "t=16\n",
    "r_block=5\n",
    "q=20\n",
    "\n",
    "#amplitude checking\n",
    "i=0\n",
    "num_amps=1000000\n",
    "amps_nocut = f\"./logs_boixo/amps_nocut_{circtype}_inst_{inst}_rep0.log\"\n",
    "amps_block = f\"./logs_boixo/amps_block_{circtype}_inst_{inst}_cutloc{cutloc}_rep0.log\"\n",
    "amps_noblock = f\"./logs_boixo/amps_noblock_{circtype}_inst_{inst}_cutloc{cutloc}_rep0.log\"\n",
    "print(amps_block)\n",
    "print(amps_noblock)\n",
    "\n",
    "readout.compare_files(amps_block, amps_nocut)\n",
    "readout.compare_files(amps_noblock, amps_nocut)\n",
    "\n",
    "#print times\n",
    "suffix = \"\"\n",
    "path_nocut = f\"./logs_boixo/times_nocut_{circtype}_inst_{inst}\"\n",
    "path_block = f\"./logs_boixo/times_block_{circtype}_inst_{inst}_cutloc{cutloc}\"\n",
    "path_noblock = f\"./logs_boixo/times_noblock_{circtype}_inst_{inst}_cutloc{cutloc}\"\n",
    "readout.print_diffs(reps, path_nocut, path_block, path_noblock, suffix)"
   ]
  },
  {
   "cell_type": "markdown",
   "metadata": {},
   "source": [
    "### 4x5, CZ, `12_0`"
   ]
  },
  {
   "cell_type": "code",
   "execution_count": 10,
   "metadata": {},
   "outputs": [],
   "source": [
    "inst = \"4x5_12_0\"\n",
    "size = \"4x5\"\n",
    "circtype=\"cz_v2\"\n",
    "cutloc=11"
   ]
  },
  {
   "cell_type": "code",
   "execution_count": 156,
   "metadata": {},
   "outputs": [],
   "source": [
    "path = f\"./{circtype}/inst_{inst}.txt\"\n",
    "circ = qsimh_into_qiskit(path)\n",
    "#circ.draw()"
   ]
  },
  {
   "cell_type": "code",
   "execution_count": 157,
   "metadata": {},
   "outputs": [],
   "source": [
    "#after shifting the gates, relabel the gate labels\n",
    "path_block = f\"./{circtype}/inst_{inst}_block_cutloc{cutloc}.txt\"\n",
    "replace_integers_with_ascending_order(path_block)"
   ]
  },
  {
   "cell_type": "code",
   "execution_count": 11,
   "metadata": {},
   "outputs": [
    {
     "name": "stdout",
     "output_type": "stream",
     "text": [
      "./logs_boixo/amps_block_cz_v2_inst_4x5_12_0_cutloc11_rep0.log\n",
      "./logs_boixo/amps_noblock_cz_v2_inst_4x5_12_0_cutloc11_rep0.log\n",
      "All fine within the given tolerance 1e-07\n",
      "All fine within the given tolerance 1e-07\n",
      "--------Full times---------\n",
      "No cut: Mean =0.9545980000000001, std=0.010523481040036158\n",
      "Block: Mean =0.05388612, std=0.0010667429876029166\n",
      "No Block: Mean =0.10033492, std=0.014838301601921964\n",
      "--------Sim times---------\n",
      "No cut: Mean =0.9534611999999999, std=0.010561668019777933\n",
      "Block: Mean =0.05369288, std=0.0010677115067282915\n",
      "No Block: Mean =0.10024288, std=0.014839107368490865\n",
      "-----Paths-----\n",
      "Block: 256\n",
      "No Block: 512\n",
      "--------Ratios--------\n",
      "S/J = 17.715099918123627\n",
      "T/J = 1.8619807846621725\n"
     ]
    }
   ],
   "source": [
    "#after running the bash file, readout the output files\n",
    "reps=5\n",
    "d_flag=2000\n",
    "t=16\n",
    "r_block=5\n",
    "q=20\n",
    "\n",
    "#amplitude checking\n",
    "i=0\n",
    "num_amps=1000000\n",
    "amps_nocut = f\"./logs_boixo/amps_nocut_{circtype}_inst_{inst}_rep0.log\"\n",
    "amps_block = f\"./logs_boixo/amps_block_{circtype}_inst_{inst}_cutloc{cutloc}_rep0.log\"\n",
    "amps_noblock = f\"./logs_boixo/amps_noblock_{circtype}_inst_{inst}_cutloc{cutloc}_rep0.log\"\n",
    "print(amps_block)\n",
    "print(amps_noblock)\n",
    "\n",
    "readout.compare_files(amps_block, amps_nocut)\n",
    "readout.compare_files(amps_noblock, amps_nocut)\n",
    "\n",
    "#print times\n",
    "suffix = \"\"\n",
    "path_nocut = f\"./logs_boixo/times_nocut_{circtype}_inst_{inst}\"\n",
    "path_block = f\"./logs_boixo/times_block_{circtype}_inst_{inst}_cutloc{cutloc}\"\n",
    "path_noblock = f\"./logs_boixo/times_noblock_{circtype}_inst_{inst}_cutloc{cutloc}\"\n",
    "readout.print_diffs(reps, path_nocut, path_block, path_noblock, suffix)"
   ]
  },
  {
   "cell_type": "markdown",
   "metadata": {},
   "source": [
    "### 4x5, CZ, `15_0`"
   ]
  },
  {
   "cell_type": "code",
   "execution_count": 12,
   "metadata": {},
   "outputs": [],
   "source": [
    "inst = \"4x5_15_0\"\n",
    "size = \"4x5\"\n",
    "circtype=\"cz_v2\"\n",
    "cutloc=11"
   ]
  },
  {
   "cell_type": "code",
   "execution_count": 160,
   "metadata": {},
   "outputs": [],
   "source": [
    "path = f\"./{circtype}/inst_{inst}.txt\"\n",
    "circ = qsimh_into_qiskit(path)\n",
    "#circ.draw()"
   ]
  },
  {
   "cell_type": "code",
   "execution_count": 161,
   "metadata": {},
   "outputs": [],
   "source": [
    "#after shifting the gates, relabel the gate labels\n",
    "path_block = f\"./{circtype}/inst_{inst}_block_cutloc{cutloc}.txt\"\n",
    "replace_integers_with_ascending_order(path_block)"
   ]
  },
  {
   "cell_type": "code",
   "execution_count": 13,
   "metadata": {},
   "outputs": [
    {
     "name": "stdout",
     "output_type": "stream",
     "text": [
      "./logs_boixo/amps_block_cz_v2_inst_4x5_15_0_cutloc11_rep0.log\n",
      "./logs_boixo/amps_noblock_cz_v2_inst_4x5_15_0_cutloc11_rep0.log\n",
      "All fine within the given tolerance 1e-07\n",
      "All fine within the given tolerance 1e-07\n",
      "--------Full times---------\n",
      "No cut: Mean =0.9919093999999999, std=0.044904852689213855\n",
      "Block: Mean =0.0933519, std=0.0035698442234921106\n",
      "No Block: Mean =0.34856360000000003, std=0.05608248262907055\n",
      "--------Sim times---------\n",
      "No cut: Mean =0.9907793999999999, std=0.044913421252894985\n",
      "Block: Mean =0.09311522, std=0.003569379293042418\n",
      "No Block: Mean =0.348448, std=0.056081931799823\n",
      "-----Paths-----\n",
      "Block: 512\n",
      "No Block: 2048\n",
      "--------Ratios--------\n",
      "S/J = 10.625487001335804\n",
      "T/J = 3.733867227126604\n"
     ]
    }
   ],
   "source": [
    "#after running the bash file, readout the output files\n",
    "reps=5\n",
    "d_flag=2000\n",
    "t=16\n",
    "r_block=5\n",
    "q=20\n",
    "\n",
    "#amplitude checking\n",
    "i=0\n",
    "num_amps=1000000\n",
    "amps_nocut = f\"./logs_boixo/amps_nocut_{circtype}_inst_{inst}_rep0.log\"\n",
    "amps_block = f\"./logs_boixo/amps_block_{circtype}_inst_{inst}_cutloc{cutloc}_rep0.log\"\n",
    "amps_noblock = f\"./logs_boixo/amps_noblock_{circtype}_inst_{inst}_cutloc{cutloc}_rep0.log\"\n",
    "print(amps_block)\n",
    "print(amps_noblock)\n",
    "\n",
    "readout.compare_files(amps_block, amps_nocut)\n",
    "readout.compare_files(amps_noblock, amps_nocut)\n",
    "\n",
    "#print times\n",
    "suffix = \"\"\n",
    "path_nocut = f\"./logs_boixo/times_nocut_{circtype}_inst_{inst}\"\n",
    "path_block = f\"./logs_boixo/times_block_{circtype}_inst_{inst}_cutloc{cutloc}\"\n",
    "path_noblock = f\"./logs_boixo/times_noblock_{circtype}_inst_{inst}_cutloc{cutloc}\"\n",
    "readout.print_diffs(reps, path_nocut, path_block, path_noblock, suffix)"
   ]
  },
  {
   "cell_type": "markdown",
   "metadata": {},
   "source": [
    "### 4x5, CZ, `20_0`"
   ]
  },
  {
   "cell_type": "code",
   "execution_count": 14,
   "metadata": {},
   "outputs": [],
   "source": [
    "inst = \"4x5_20_0\"\n",
    "size = \"4x5\"\n",
    "circtype=\"cz_v2\"\n",
    "cutloc=11"
   ]
  },
  {
   "cell_type": "code",
   "execution_count": 164,
   "metadata": {},
   "outputs": [],
   "source": [
    "path = f\"./{circtype}/inst_{inst}.txt\"\n",
    "circ = qsimh_into_qiskit(path)\n",
    "#circ.draw(output=\"mpl\")"
   ]
  },
  {
   "cell_type": "code",
   "execution_count": 165,
   "metadata": {},
   "outputs": [],
   "source": [
    "#after shifting the gates, relabel the gate labels\n",
    "path_block = f\"./{circtype}/inst_{inst}_block_cutloc{cutloc}.txt\"\n",
    "replace_integers_with_ascending_order(path_block)"
   ]
  },
  {
   "cell_type": "code",
   "execution_count": 15,
   "metadata": {},
   "outputs": [
    {
     "name": "stdout",
     "output_type": "stream",
     "text": [
      "./logs_boixo/amps_block_cz_v2_inst_4x5_20_0_cutloc11_rep0.log\n",
      "./logs_boixo/amps_noblock_cz_v2_inst_4x5_20_0_cutloc11_rep0.log\n",
      "All fine within the given tolerance 1e-07\n",
      "All fine within the given tolerance 1e-07\n",
      "--------Full times---------\n",
      "No cut: Mean =1.0066944, std=0.06659166417983559\n",
      "Block: Mean =1.3944300000000003, std=0.058498078259033436\n",
      "No Block: Mean =5.575082, std=0.06627635155921006\n",
      "--------Sim times---------\n",
      "No cut: Mean =1.0055042, std=0.06658929851980719\n",
      "Block: Mean =1.394164, std=0.05850671947733867\n",
      "No Block: Mean =5.574956, std=0.06627511164834039\n",
      "-----Paths-----\n",
      "Block: 8192\n",
      "No Block: 32768\n",
      "--------Ratios--------\n",
      "S/J = 0.7219397173038444\n",
      "T/J = 3.9981081875748505\n"
     ]
    }
   ],
   "source": [
    "#after running the bash file, readout the output files\n",
    "reps=5\n",
    "d_flag=2000\n",
    "t=16\n",
    "r_block=5\n",
    "q=20\n",
    "\n",
    "#amplitude checking\n",
    "i=0\n",
    "num_amps=1000000\n",
    "amps_nocut = f\"./logs_boixo/amps_nocut_{circtype}_inst_{inst}_rep0.log\"\n",
    "amps_block = f\"./logs_boixo/amps_block_{circtype}_inst_{inst}_cutloc{cutloc}_rep0.log\"\n",
    "amps_noblock = f\"./logs_boixo/amps_noblock_{circtype}_inst_{inst}_cutloc{cutloc}_rep0.log\"\n",
    "print(amps_block)\n",
    "print(amps_noblock)\n",
    "\n",
    "readout.compare_files(amps_block, amps_nocut)\n",
    "readout.compare_files(amps_noblock, amps_nocut)\n",
    "\n",
    "#print times\n",
    "suffix = \"\"\n",
    "path_nocut = f\"./logs_boixo/times_nocut_{circtype}_inst_{inst}\"\n",
    "path_block = f\"./logs_boixo/times_block_{circtype}_inst_{inst}_cutloc{cutloc}\"\n",
    "path_noblock = f\"./logs_boixo/times_noblock_{circtype}_inst_{inst}_cutloc{cutloc}\"\n",
    "readout.print_diffs(reps, path_nocut, path_block, path_noblock, suffix)"
   ]
  },
  {
   "cell_type": "markdown",
   "metadata": {},
   "source": [
    "### 5x5, CZ, `10_0`"
   ]
  },
  {
   "cell_type": "code",
   "execution_count": 18,
   "metadata": {},
   "outputs": [],
   "source": [
    "inst = \"5x5_10_0\"\n",
    "size = \"5x5\"\n",
    "circtype=\"cz_v2\"\n",
    "cutloc=11"
   ]
  },
  {
   "cell_type": "code",
   "execution_count": 168,
   "metadata": {},
   "outputs": [],
   "source": [
    "path = f\"./{circtype}/inst_{inst}.txt\"\n",
    "circ = qsimh_into_qiskit(path)\n",
    "#circ.draw()"
   ]
  },
  {
   "cell_type": "code",
   "execution_count": 169,
   "metadata": {},
   "outputs": [],
   "source": [
    "#after shifting the gates, relabel the gate labels\n",
    "path_block = f\"./{circtype}/inst_{inst}_block_cutloc{cutloc}.txt\"\n",
    "replace_integers_with_ascending_order(path_block)"
   ]
  },
  {
   "cell_type": "code",
   "execution_count": 19,
   "metadata": {},
   "outputs": [
    {
     "name": "stdout",
     "output_type": "stream",
     "text": [
      "./logs_boixo/amps_block_cz_v2_inst_5x5_10_0_cutloc11_rep0.log\n",
      "./logs_boixo/amps_noblock_cz_v2_inst_5x5_10_0_cutloc11_rep0.log\n",
      "All fine within the given tolerance 1e-07\n",
      "All fine within the given tolerance 1e-07\n",
      "--------Full times---------\n",
      "No cut: Mean =1.350084, std=0.038305322136747574\n",
      "Block: Mean =0.02705418, std=0.0006775177146023558\n",
      "No Block: Mean =0.03204576, std=0.0009887389273210605\n",
      "--------Sim times---------\n",
      "No cut: Mean =1.33967, std=0.038083729859350726\n",
      "Block: Mean =0.02687556, std=0.0006765371079253527\n",
      "No Block: Mean =0.03195672, std=0.0009871514826003153\n",
      "-----Paths-----\n",
      "Block: 32\n",
      "No Block: 64\n",
      "--------Ratios--------\n",
      "S/J = 49.90297247966858\n",
      "T/J = 1.184503097118449\n"
     ]
    }
   ],
   "source": [
    "#after running the bash file, readout the output files\n",
    "reps=5\n",
    "d_flag=2000\n",
    "t=16\n",
    "r_block=5\n",
    "q=20\n",
    "\n",
    "#amplitude checking\n",
    "i=0\n",
    "num_amps=1000000\n",
    "amps_nocut = f\"./logs_boixo/amps_nocut_{circtype}_inst_{inst}_rep0.log\"\n",
    "amps_block = f\"./logs_boixo/amps_block_{circtype}_inst_{inst}_cutloc{cutloc}_rep0.log\"\n",
    "amps_noblock = f\"./logs_boixo/amps_noblock_{circtype}_inst_{inst}_cutloc{cutloc}_rep0.log\"\n",
    "print(amps_block)\n",
    "print(amps_noblock)\n",
    "\n",
    "readout.compare_files(amps_block, amps_nocut)\n",
    "readout.compare_files(amps_noblock, amps_nocut)\n",
    "\n",
    "#print times\n",
    "suffix = \"\"\n",
    "path_nocut = f\"./logs_boixo/times_nocut_{circtype}_inst_{inst}\"\n",
    "path_block = f\"./logs_boixo/times_block_{circtype}_inst_{inst}_cutloc{cutloc}\"\n",
    "path_noblock = f\"./logs_boixo/times_noblock_{circtype}_inst_{inst}_cutloc{cutloc}\"\n",
    "readout.print_diffs(reps, path_nocut, path_block, path_noblock, suffix)"
   ]
  },
  {
   "cell_type": "markdown",
   "metadata": {},
   "source": [
    "### 5x5, CZ, `12_0`"
   ]
  },
  {
   "cell_type": "code",
   "execution_count": 20,
   "metadata": {},
   "outputs": [],
   "source": [
    "inst = \"5x5_12_0\"\n",
    "size = \"5x5\"\n",
    "circtype=\"cz_v2\"\n",
    "cutloc=11"
   ]
  },
  {
   "cell_type": "code",
   "execution_count": 172,
   "metadata": {},
   "outputs": [],
   "source": [
    "path = f\"./{circtype}/inst_{inst}.txt\"\n",
    "circ = qsimh_into_qiskit(path)\n",
    "#circ.draw()"
   ]
  },
  {
   "cell_type": "code",
   "execution_count": 173,
   "metadata": {},
   "outputs": [],
   "source": [
    "#after shifting the gates, relabel the gate labels\n",
    "path_block = f\"./{circtype}/inst_{inst}_block_cutloc{cutloc}.txt\"\n",
    "replace_integers_with_ascending_order(path_block)"
   ]
  },
  {
   "cell_type": "code",
   "execution_count": 21,
   "metadata": {},
   "outputs": [
    {
     "name": "stdout",
     "output_type": "stream",
     "text": [
      "./logs_boixo/amps_block_cz_v2_inst_5x5_12_0_cutloc11_rep0.log\n",
      "./logs_boixo/amps_noblock_cz_v2_inst_5x5_12_0_cutloc11_rep0.log\n",
      "All fine within the given tolerance 1e-07\n",
      "All fine within the given tolerance 1e-07\n",
      "--------Full times---------\n",
      "No cut: Mean =1.3655240000000002, std=0.02131210885858084\n",
      "Block: Mean =0.0645909, std=0.0026511715764921716\n",
      "No Block: Mean =0.1289066, std=0.021220869714505108\n",
      "--------Sim times---------\n",
      "No cut: Mean =1.354772, std=0.02101948372344094\n",
      "Block: Mean =0.06439700000000001, std=0.002649699707514041\n",
      "No Block: Mean =0.12880239999999998, std=0.021224284596659555\n",
      "-----Paths-----\n",
      "Block: 256\n",
      "No Block: 512\n",
      "--------Ratios--------\n",
      "S/J = 21.141120498398383\n",
      "T/J = 1.9957393378943473\n"
     ]
    }
   ],
   "source": [
    "#after running the bash file, readout the output files\n",
    "reps=5\n",
    "d_flag=2000\n",
    "t=16\n",
    "r_block=5\n",
    "q=20\n",
    "\n",
    "#amplitude checking\n",
    "i=0\n",
    "num_amps=1000000\n",
    "amps_nocut = f\"./logs_boixo/amps_nocut_{circtype}_inst_{inst}_rep0.log\"\n",
    "amps_block = f\"./logs_boixo/amps_block_{circtype}_inst_{inst}_cutloc{cutloc}_rep0.log\"\n",
    "amps_noblock = f\"./logs_boixo/amps_noblock_{circtype}_inst_{inst}_cutloc{cutloc}_rep0.log\"\n",
    "print(amps_block)\n",
    "print(amps_noblock)\n",
    "\n",
    "readout.compare_files(amps_block, amps_nocut)\n",
    "readout.compare_files(amps_noblock, amps_nocut)\n",
    "\n",
    "#print times\n",
    "suffix = \"\"\n",
    "path_nocut = f\"./logs_boixo/times_nocut_{circtype}_inst_{inst}\"\n",
    "path_block = f\"./logs_boixo/times_block_{circtype}_inst_{inst}_cutloc{cutloc}\"\n",
    "path_noblock = f\"./logs_boixo/times_noblock_{circtype}_inst_{inst}_cutloc{cutloc}\"\n",
    "readout.print_diffs(reps, path_nocut, path_block, path_noblock, suffix)"
   ]
  },
  {
   "cell_type": "markdown",
   "metadata": {},
   "source": [
    "### 5x5, CZ, `15_0`"
   ]
  },
  {
   "cell_type": "code",
   "execution_count": 22,
   "metadata": {},
   "outputs": [],
   "source": [
    "inst = \"5x5_15_0\"\n",
    "size = \"5x5\"\n",
    "circtype=\"cz_v2\"\n",
    "cutloc=11"
   ]
  },
  {
   "cell_type": "code",
   "execution_count": 176,
   "metadata": {},
   "outputs": [],
   "source": [
    "path = f\"./{circtype}/inst_{inst}.txt\"\n",
    "circ = qsimh_into_qiskit(path)\n",
    "#circ.draw()"
   ]
  },
  {
   "cell_type": "code",
   "execution_count": 177,
   "metadata": {},
   "outputs": [],
   "source": [
    "#after shifting the gates, relabel the gate labels\n",
    "path_block = f\"./{circtype}/inst_{inst}_block_cutloc{cutloc}.txt\"\n",
    "replace_integers_with_ascending_order(path_block)"
   ]
  },
  {
   "cell_type": "code",
   "execution_count": 23,
   "metadata": {},
   "outputs": [
    {
     "name": "stdout",
     "output_type": "stream",
     "text": [
      "./logs_boixo/amps_block_cz_v2_inst_5x5_15_0_cutloc11_rep0.log\n",
      "./logs_boixo/amps_noblock_cz_v2_inst_5x5_15_0_cutloc11_rep0.log\n",
      "All fine within the given tolerance 1e-07\n",
      "All fine within the given tolerance 1e-07\n",
      "--------Full times---------\n",
      "No cut: Mean =1.5241099999999999, std=0.017856422934059327\n",
      "Block: Mean =0.1315986, std=0.017651657560693836\n",
      "No Block: Mean =0.44962040000000003, std=0.0020241709018756285\n",
      "--------Sim times---------\n",
      "No cut: Mean =1.513808, std=0.017982065954722817\n",
      "Block: Mean =0.13136219999999998, std=0.017643261494406294\n",
      "No Block: Mean =0.449498, std=0.00203426940202127\n",
      "-----Paths-----\n",
      "Block: 512\n",
      "No Block: 2048\n",
      "--------Ratios--------\n",
      "S/J = 11.581506186236021\n",
      "T/J = 3.4166047359166436\n"
     ]
    }
   ],
   "source": [
    "#after running the bash file, readout the output files\n",
    "reps=5\n",
    "d_flag=2000\n",
    "t=16\n",
    "r_block=5\n",
    "q=20\n",
    "\n",
    "#amplitude checking\n",
    "i=0\n",
    "num_amps=1000000\n",
    "amps_nocut = f\"./logs_boixo/amps_nocut_{circtype}_inst_{inst}_rep0.log\"\n",
    "amps_block = f\"./logs_boixo/amps_block_{circtype}_inst_{inst}_cutloc{cutloc}_rep0.log\"\n",
    "amps_noblock = f\"./logs_boixo/amps_noblock_{circtype}_inst_{inst}_cutloc{cutloc}_rep0.log\"\n",
    "print(amps_block)\n",
    "print(amps_noblock)\n",
    "\n",
    "readout.compare_files(amps_block, amps_nocut)\n",
    "readout.compare_files(amps_noblock, amps_nocut)\n",
    "\n",
    "#print times\n",
    "suffix = \"\"\n",
    "path_nocut = f\"./logs_boixo/times_nocut_{circtype}_inst_{inst}\"\n",
    "path_block = f\"./logs_boixo/times_block_{circtype}_inst_{inst}_cutloc{cutloc}\"\n",
    "path_noblock = f\"./logs_boixo/times_noblock_{circtype}_inst_{inst}_cutloc{cutloc}\"\n",
    "readout.print_diffs(reps, path_nocut, path_block, path_noblock, suffix)"
   ]
  },
  {
   "cell_type": "markdown",
   "metadata": {},
   "source": [
    "### 5x5, CZ, `20_0`"
   ]
  },
  {
   "cell_type": "code",
   "execution_count": 24,
   "metadata": {},
   "outputs": [],
   "source": [
    "inst = \"5x5_20_0\"\n",
    "size = \"5x5\"\n",
    "circtype=\"cz_v2\"\n",
    "cutloc=11"
   ]
  },
  {
   "cell_type": "code",
   "execution_count": 180,
   "metadata": {},
   "outputs": [],
   "source": [
    "path = f\"./{circtype}/inst_{inst}.txt\"\n",
    "circ = qsimh_into_qiskit(path)\n",
    "#circ.draw()"
   ]
  },
  {
   "cell_type": "code",
   "execution_count": 181,
   "metadata": {},
   "outputs": [],
   "source": [
    "#after shifting the gates, relabel the gate labels\n",
    "path_block = f\"./{circtype}/inst_{inst}_block_cutloc{cutloc}.txt\"\n",
    "replace_integers_with_ascending_order(path_block)"
   ]
  },
  {
   "cell_type": "code",
   "execution_count": 25,
   "metadata": {},
   "outputs": [
    {
     "name": "stdout",
     "output_type": "stream",
     "text": [
      "./logs_boixo/amps_block_cz_v2_inst_5x5_20_0_cutloc11_rep0.log\n",
      "./logs_boixo/amps_noblock_cz_v2_inst_5x5_20_0_cutloc11_rep0.log\n",
      "All fine within the given tolerance 1e-07\n",
      "All fine within the given tolerance 1e-07\n",
      "--------Full times---------\n",
      "No cut: Mean =1.6342539999999999, std=0.014993703478460518\n",
      "Block: Mean =2.17122, std=0.019365318484342055\n",
      "No Block: Mean =8.946824000000001, std=0.02106175928074369\n",
      "--------Sim times---------\n",
      "No cut: Mean =1.6237340000000002, std=0.014831544221691789\n",
      "Block: Mean =2.170956, std=0.019355380233929867\n",
      "No Block: Mean =8.946676, std=0.021063011750459406\n",
      "-----Paths-----\n",
      "Block: 8192\n",
      "No Block: 32768\n",
      "--------Ratios--------\n",
      "S/J = 0.7526892714694964\n",
      "T/J = 4.120643693407394\n"
     ]
    }
   ],
   "source": [
    "#after running the bash file, readout the output files\n",
    "reps=5\n",
    "d_flag=2000\n",
    "t=16\n",
    "r_block=5\n",
    "q=20\n",
    "\n",
    "#amplitude checking\n",
    "i=0\n",
    "num_amps=1000000\n",
    "amps_nocut = f\"./logs_boixo/amps_nocut_{circtype}_inst_{inst}_rep0.log\"\n",
    "amps_block = f\"./logs_boixo/amps_block_{circtype}_inst_{inst}_cutloc{cutloc}_rep0.log\"\n",
    "amps_noblock = f\"./logs_boixo/amps_noblock_{circtype}_inst_{inst}_cutloc{cutloc}_rep0.log\"\n",
    "print(amps_block)\n",
    "print(amps_noblock)\n",
    "\n",
    "readout.compare_files(amps_block, amps_nocut)\n",
    "readout.compare_files(amps_noblock, amps_nocut)\n",
    "\n",
    "#print times\n",
    "suffix = \"\"\n",
    "path_nocut = f\"./logs_boixo/times_nocut_{circtype}_inst_{inst}\"\n",
    "path_block = f\"./logs_boixo/times_block_{circtype}_inst_{inst}_cutloc{cutloc}\"\n",
    "path_noblock = f\"./logs_boixo/times_noblock_{circtype}_inst_{inst}_cutloc{cutloc}\"\n",
    "readout.print_diffs(reps, path_nocut, path_block, path_noblock, suffix)"
   ]
  },
  {
   "cell_type": "markdown",
   "metadata": {},
   "source": [
    "### 5x6, CZ, `10_0`"
   ]
  },
  {
   "cell_type": "code",
   "execution_count": 28,
   "metadata": {},
   "outputs": [],
   "source": [
    "inst = \"5x6_10_0\"\n",
    "size = \"5x6\"\n",
    "circtype=\"cz_v2\"\n",
    "cutloc=13"
   ]
  },
  {
   "cell_type": "code",
   "execution_count": 184,
   "metadata": {},
   "outputs": [],
   "source": [
    "path = f\"./{circtype}/inst_{inst}.txt\"\n",
    "circ = qsimh_into_qiskit(path)\n",
    "#circ.draw()"
   ]
  },
  {
   "cell_type": "code",
   "execution_count": 185,
   "metadata": {},
   "outputs": [],
   "source": [
    "#after shifting the gates, relabel the gate labels\n",
    "path_block = f\"./{circtype}/inst_{inst}_block_cutloc{cutloc}.txt\"\n",
    "replace_integers_with_ascending_order(path_block)"
   ]
  },
  {
   "cell_type": "code",
   "execution_count": 29,
   "metadata": {},
   "outputs": [
    {
     "name": "stdout",
     "output_type": "stream",
     "text": [
      "./logs_boixo/amps_block_cz_v2_inst_5x6_10_0_cutloc13_rep0.log\n",
      "./logs_boixo/amps_noblock_cz_v2_inst_5x6_10_0_cutloc13_rep0.log\n",
      "All fine within the given tolerance 1e-07\n",
      "All fine within the given tolerance 1e-07\n",
      "--------Full times---------\n",
      "No cut: Mean =15.207159999999998, std=0.03347492195659286\n",
      "Block: Mean =0.0522724, std=0.0005775840891160357\n",
      "No Block: Mean =0.07924432000000001, std=0.0013079793811830527\n",
      "--------Sim times---------\n",
      "No cut: Mean =14.941120000000002, std=0.03163734502135087\n",
      "Block: Mean =0.052087020000000005, std=0.000579069223495776\n",
      "No Block: Mean =0.07914328000000001, std=0.001309460695706441\n",
      "-----Paths-----\n",
      "Block: 64\n",
      "No Block: 128\n",
      "--------Ratios--------\n",
      "S/J = 290.92140402966\n",
      "T/J = 1.5159877870539713\n"
     ]
    }
   ],
   "source": [
    "#after running the bash file, readout the output files\n",
    "reps=5\n",
    "d_flag=2000\n",
    "t=16\n",
    "r_block=5\n",
    "q=20\n",
    "\n",
    "#amplitude checking\n",
    "i=0\n",
    "num_amps=1000000\n",
    "amps_nocut = f\"./logs_boixo/amps_nocut_{circtype}_inst_{inst}_rep0.log\"\n",
    "amps_block = f\"./logs_boixo/amps_block_{circtype}_inst_{inst}_cutloc{cutloc}_rep0.log\"\n",
    "amps_noblock = f\"./logs_boixo/amps_noblock_{circtype}_inst_{inst}_cutloc{cutloc}_rep0.log\"\n",
    "print(amps_block)\n",
    "print(amps_noblock)\n",
    "\n",
    "readout.compare_files(amps_block, amps_nocut)\n",
    "readout.compare_files(amps_noblock, amps_nocut)\n",
    "\n",
    "#print times\n",
    "suffix = \"\"\n",
    "path_nocut = f\"./logs_boixo/times_nocut_{circtype}_inst_{inst}\"\n",
    "path_block = f\"./logs_boixo/times_block_{circtype}_inst_{inst}_cutloc{cutloc}\"\n",
    "path_noblock = f\"./logs_boixo/times_noblock_{circtype}_inst_{inst}_cutloc{cutloc}\"\n",
    "readout.print_diffs(reps, path_nocut, path_block, path_noblock, suffix)"
   ]
  },
  {
   "cell_type": "markdown",
   "metadata": {},
   "source": [
    "### 5x6, CZ, `12_0`"
   ]
  },
  {
   "cell_type": "code",
   "execution_count": 30,
   "metadata": {},
   "outputs": [],
   "source": [
    "inst = \"5x6_12_0\"\n",
    "size = \"5x6\"\n",
    "circtype=\"cz_v2\"\n",
    "cutloc=13"
   ]
  },
  {
   "cell_type": "code",
   "execution_count": 188,
   "metadata": {},
   "outputs": [],
   "source": [
    "path = f\"./{circtype}/inst_{inst}.txt\"\n",
    "circ = qsimh_into_qiskit(path)\n",
    "#circ.draw()"
   ]
  },
  {
   "cell_type": "code",
   "execution_count": 189,
   "metadata": {},
   "outputs": [],
   "source": [
    "#after shifting the gates, relabel the gate labels\n",
    "path_block = f\"./{circtype}/inst_{inst}_block_cutloc{cutloc}.txt\"\n",
    "replace_integers_with_ascending_order(path_block)"
   ]
  },
  {
   "cell_type": "code",
   "execution_count": 31,
   "metadata": {},
   "outputs": [
    {
     "name": "stdout",
     "output_type": "stream",
     "text": [
      "./logs_boixo/amps_block_cz_v2_inst_5x6_12_0_cutloc13_rep0.log\n",
      "./logs_boixo/amps_noblock_cz_v2_inst_5x6_12_0_cutloc13_rep0.log\n",
      "All fine within the given tolerance 1e-07\n",
      "All fine within the given tolerance 1e-07\n",
      "--------Full times---------\n",
      "No cut: Mean =17.948520000000002, std=0.03593735660841054\n",
      "Block: Mean =0.2837214, std=0.025632524219046396\n",
      "No Block: Mean =0.5726660000000001, std=0.02467689854904786\n",
      "--------Sim times---------\n",
      "No cut: Mean =17.67942, std=0.039121318996168955\n",
      "Block: Mean =0.283508, std=0.025634093219772756\n",
      "No Block: Mean =0.5725456, std=0.02467647883795417\n",
      "-----Paths-----\n",
      "Block: 512\n",
      "No Block: 1024\n",
      "--------Ratios--------\n",
      "S/J = 63.261072305437665\n",
      "T/J = 2.018409608862779\n"
     ]
    }
   ],
   "source": [
    "#after running the bash file, readout the output files\n",
    "reps=5\n",
    "d_flag=2000\n",
    "t=16\n",
    "r_block=5\n",
    "q=30\n",
    "\n",
    "#amplitude checking\n",
    "i=0\n",
    "num_amps=1000000\n",
    "amps_nocut = f\"./logs_boixo/amps_nocut_{circtype}_inst_{inst}_rep0.log\"\n",
    "amps_block = f\"./logs_boixo/amps_block_{circtype}_inst_{inst}_cutloc{cutloc}_rep0.log\"\n",
    "amps_noblock = f\"./logs_boixo/amps_noblock_{circtype}_inst_{inst}_cutloc{cutloc}_rep0.log\"\n",
    "print(amps_block)\n",
    "print(amps_noblock)\n",
    "\n",
    "readout.compare_files(amps_block, amps_nocut)\n",
    "readout.compare_files(amps_noblock, amps_nocut)\n",
    "\n",
    "#print times\n",
    "suffix = \"\"\n",
    "path_nocut = f\"./logs_boixo/times_nocut_{circtype}_inst_{inst}\"\n",
    "path_block = f\"./logs_boixo/times_block_{circtype}_inst_{inst}_cutloc{cutloc}\"\n",
    "path_noblock = f\"./logs_boixo/times_noblock_{circtype}_inst_{inst}_cutloc{cutloc}\"\n",
    "readout.print_diffs(reps, path_nocut, path_block, path_noblock, suffix)"
   ]
  },
  {
   "cell_type": "markdown",
   "metadata": {},
   "source": [
    "### 5x6, CZ, `15_0`"
   ]
  },
  {
   "cell_type": "code",
   "execution_count": 32,
   "metadata": {},
   "outputs": [],
   "source": [
    "inst = \"5x6_15_0\"\n",
    "size = \"5x6\"\n",
    "circtype=\"cz_v2\"\n",
    "cutloc=13"
   ]
  },
  {
   "cell_type": "code",
   "execution_count": 192,
   "metadata": {},
   "outputs": [],
   "source": [
    "path = f\"./{circtype}/inst_{inst}.txt\"\n",
    "circ = qsimh_into_qiskit(path)\n",
    "#circ.draw()"
   ]
  },
  {
   "cell_type": "code",
   "execution_count": 193,
   "metadata": {},
   "outputs": [],
   "source": [
    "#after shifting the gates, relabel the gate labels\n",
    "path_block = f\"./{circtype}/inst_{inst}_block_cutloc{cutloc}.txt\"\n",
    "replace_integers_with_ascending_order(path_block)"
   ]
  },
  {
   "cell_type": "code",
   "execution_count": 33,
   "metadata": {},
   "outputs": [
    {
     "name": "stdout",
     "output_type": "stream",
     "text": [
      "./logs_boixo/amps_block_cz_v2_inst_5x6_15_0_cutloc13_rep0.log\n",
      "./logs_boixo/amps_noblock_cz_v2_inst_5x6_15_0_cutloc13_rep0.log\n",
      "All fine within the given tolerance 1e-07\n",
      "All fine within the given tolerance 1e-07\n",
      "--------Full times---------\n",
      "No cut: Mean =22.52536, std=0.042624621992458485\n",
      "Block: Mean =1.305224, std=0.018497085824529212\n",
      "No Block: Mean =5.508132, std=0.05616897129198662\n",
      "--------Sim times---------\n",
      "No cut: Mean =22.26024, std=0.04017892980157626\n",
      "Block: Mean =1.30496, std=0.01850718238954814\n",
      "No Block: Mean =5.507987999999999, std=0.05616644030023619\n",
      "-----Paths-----\n",
      "Block: 2048\n",
      "No Block: 8192\n",
      "--------Ratios--------\n",
      "S/J = 17.257849993564324\n",
      "T/J = 4.220066440702898\n"
     ]
    }
   ],
   "source": [
    "#after running the bash file, readout the output files\n",
    "reps=5\n",
    "d_flag=2000\n",
    "t=16\n",
    "r_block=5\n",
    "q=20\n",
    "\n",
    "#amplitude checking\n",
    "i=0\n",
    "num_amps=1000000\n",
    "amps_nocut = f\"./logs_boixo/amps_nocut_{circtype}_inst_{inst}_rep0.log\"\n",
    "amps_block = f\"./logs_boixo/amps_block_{circtype}_inst_{inst}_cutloc{cutloc}_rep0.log\"\n",
    "amps_noblock = f\"./logs_boixo/amps_noblock_{circtype}_inst_{inst}_cutloc{cutloc}_rep0.log\"\n",
    "print(amps_block)\n",
    "print(amps_noblock)\n",
    "\n",
    "readout.compare_files(amps_block, amps_nocut)\n",
    "readout.compare_files(amps_noblock, amps_nocut)\n",
    "\n",
    "#print times\n",
    "suffix = \"\"\n",
    "path_nocut = f\"./logs_boixo/times_nocut_{circtype}_inst_{inst}\"\n",
    "path_block = f\"./logs_boixo/times_block_{circtype}_inst_{inst}_cutloc{cutloc}\"\n",
    "path_noblock = f\"./logs_boixo/times_noblock_{circtype}_inst_{inst}_cutloc{cutloc}\"\n",
    "readout.print_diffs(reps, path_nocut, path_block, path_noblock, suffix)"
   ]
  },
  {
   "cell_type": "markdown",
   "metadata": {},
   "source": [
    "### 5x6, CZ, `20_0`"
   ]
  },
  {
   "cell_type": "code",
   "execution_count": 34,
   "metadata": {},
   "outputs": [],
   "source": [
    "inst = \"5x6_20_0\"\n",
    "size = \"5x6\"\n",
    "circtype=\"cz_v2\"\n",
    "cutloc=13"
   ]
  },
  {
   "cell_type": "code",
   "execution_count": 196,
   "metadata": {},
   "outputs": [],
   "source": [
    "path = f\"./{circtype}/inst_{inst}.txt\"\n",
    "circ = qsimh_into_qiskit(path)\n",
    "#circ.draw()"
   ]
  },
  {
   "cell_type": "code",
   "execution_count": 197,
   "metadata": {},
   "outputs": [],
   "source": [
    "#after shifting the gates, relabel the gate labels\n",
    "path_block = f\"./{circtype}/inst_{inst}_block_cutloc{cutloc}.txt\"\n",
    "replace_integers_with_ascending_order(path_block)"
   ]
  },
  {
   "cell_type": "code",
   "execution_count": 35,
   "metadata": {},
   "outputs": [
    {
     "name": "stdout",
     "output_type": "stream",
     "text": [
      "./logs_boixo/amps_block_cz_v2_inst_5x6_20_0_cutloc13_rep0.log\n",
      "./logs_boixo/amps_noblock_cz_v2_inst_5x6_20_0_cutloc13_rep0.log\n",
      "All fine within the given tolerance 1e-07\n",
      "All fine within the given tolerance 1e-07\n",
      "--------Full times---------\n",
      "No cut: Mean =30.393459999999997, std=0.3307870589971738\n",
      "Block: Mean =29.37566, std=0.6219345290301862\n",
      "No Block: Mean =123.2902, std=2.719322077283236\n",
      "--------Sim times---------\n",
      "No cut: Mean =30.12432, std=0.3278682137688865\n",
      "Block: Mean =29.3735, std=0.6242020474173411\n",
      "No Block: Mean =123.2902, std=2.719322077283236\n",
      "-----Paths-----\n",
      "Block: 32768\n",
      "No Block: 131072\n",
      "--------Ratios--------\n",
      "S/J = 1.0346477321701026\n",
      "T/J = 4.197018892511692\n"
     ]
    }
   ],
   "source": [
    "#after running the bash file, readout the output files\n",
    "reps=5\n",
    "d_flag=2000\n",
    "t=16\n",
    "r_block=5\n",
    "q=20\n",
    "\n",
    "#amplitude checking\n",
    "i=0\n",
    "num_amps=1000000\n",
    "amps_nocut = f\"./logs_boixo/amps_nocut_{circtype}_inst_{inst}_rep0.log\"\n",
    "amps_block = f\"./logs_boixo/amps_block_{circtype}_inst_{inst}_cutloc{cutloc}_rep0.log\"\n",
    "amps_noblock = f\"./logs_boixo/amps_noblock_{circtype}_inst_{inst}_cutloc{cutloc}_rep0.log\"\n",
    "print(amps_block)\n",
    "print(amps_noblock)\n",
    "\n",
    "readout.compare_files(amps_block, amps_nocut)\n",
    "readout.compare_files(amps_noblock, amps_nocut)\n",
    "\n",
    "#print times\n",
    "suffix = \"\"\n",
    "path_nocut = f\"./logs_boixo/times_nocut_{circtype}_inst_{inst}\"\n",
    "path_block = f\"./logs_boixo/times_block_{circtype}_inst_{inst}_cutloc{cutloc}\"\n",
    "path_noblock = f\"./logs_boixo/times_noblock_{circtype}_inst_{inst}_cutloc{cutloc}\"\n",
    "readout.print_diffs(reps, path_nocut, path_block, path_noblock, suffix)"
   ]
  },
  {
   "cell_type": "markdown",
   "metadata": {},
   "source": [
    "## Iswap Circuits\n",
    "\n",
    "### 4x5, iSWAP, `10_0`"
   ]
  },
  {
   "cell_type": "code",
   "execution_count": 36,
   "metadata": {},
   "outputs": [],
   "source": [
    "inst = \"4x5_10_0\"\n",
    "size = \"4x5\"\n",
    "circtype=\"is_v1\"\n",
    "cutloc=11"
   ]
  },
  {
   "cell_type": "code",
   "execution_count": 5,
   "metadata": {},
   "outputs": [],
   "source": [
    "path = f\"./{circtype}/inst_{inst}.txt\"\n",
    "circ = qsimh_into_qiskit(path)\n",
    "#circ.draw()"
   ]
  },
  {
   "cell_type": "code",
   "execution_count": 6,
   "metadata": {},
   "outputs": [],
   "source": [
    "#after shifting the gates, relabel the gate labels\n",
    "path_block = f\"./{circtype}/inst_{inst}_block_cutloc{cutloc}.txt\"\n",
    "replace_integers_with_ascending_order(path_block)"
   ]
  },
  {
   "cell_type": "code",
   "execution_count": 37,
   "metadata": {},
   "outputs": [
    {
     "name": "stdout",
     "output_type": "stream",
     "text": [
      "./logs_boixo/amps_block_is_v1_inst_4x5_10_0_cutloc11_rep0.log\n",
      "./logs_boixo/amps_noblock_is_v1_inst_4x5_10_0_cutloc11_rep0.log\n",
      "All fine within the given tolerance 1e-07\n",
      "All fine within the given tolerance 1e-07\n",
      "--------Full times---------\n",
      "No cut: Mean =0.954428, std=0.01461173121844226\n",
      "Block: Mean =0.1822994, std=0.011146399752386422\n",
      "No Block: Mean =0.619229, std=0.03214714634302708\n",
      "--------Sim times---------\n",
      "No cut: Mean =0.9533965999999999, std=0.014623435883539832\n",
      "Block: Mean =0.1821104, std=0.011139991895867792\n",
      "No Block: Mean =0.6191447999999999, std=0.032144183569660006\n",
      "-----Paths-----\n",
      "Block: 1024\n",
      "No Block: 4096\n",
      "--------Ratios--------\n",
      "S/J = 5.235497209535523\n",
      "T/J = 3.3967692707710504\n"
     ]
    }
   ],
   "source": [
    "#after running the bash file, readout the output files\n",
    "reps=5\n",
    "d_flag=2000\n",
    "t=16\n",
    "r_block=5\n",
    "q=20\n",
    "\n",
    "#amplitude checking\n",
    "i=0\n",
    "num_amps=1000000\n",
    "amps_nocut = f\"./logs_boixo/amps_nocut_{circtype}_inst_{inst}_rep0.log\"\n",
    "amps_block = f\"./logs_boixo/amps_block_{circtype}_inst_{inst}_cutloc{cutloc}_rep0.log\"\n",
    "amps_noblock = f\"./logs_boixo/amps_noblock_{circtype}_inst_{inst}_cutloc{cutloc}_rep0.log\"\n",
    "print(amps_block)\n",
    "print(amps_noblock)\n",
    "\n",
    "readout.compare_files(amps_block, amps_nocut)\n",
    "readout.compare_files(amps_noblock, amps_nocut)\n",
    "\n",
    "#print times\n",
    "suffix = \"\"\n",
    "path_nocut = f\"./logs_boixo/times_nocut_{circtype}_inst_{inst}\"\n",
    "path_block = f\"./logs_boixo/times_block_{circtype}_inst_{inst}_cutloc{cutloc}\"\n",
    "path_noblock = f\"./logs_boixo/times_noblock_{circtype}_inst_{inst}_cutloc{cutloc}\"\n",
    "readout.print_diffs(reps, path_nocut, path_block, path_noblock, suffix)"
   ]
  },
  {
   "cell_type": "markdown",
   "metadata": {},
   "source": [
    "### 4x5, iSWAP, `11_0`"
   ]
  },
  {
   "cell_type": "code",
   "execution_count": 38,
   "metadata": {},
   "outputs": [],
   "source": [
    "inst = \"4x5_11_0\"\n",
    "size = \"4x5\"\n",
    "circtype=\"is_v1\"\n",
    "cutloc=11"
   ]
  },
  {
   "cell_type": "code",
   "execution_count": 9,
   "metadata": {},
   "outputs": [],
   "source": [
    "path = f\"./{circtype}/inst_{inst}.txt\"\n",
    "circ = qsimh_into_qiskit(path)\n",
    "#circ.draw()"
   ]
  },
  {
   "cell_type": "code",
   "execution_count": 10,
   "metadata": {},
   "outputs": [],
   "source": [
    "#after shifting the gates, relabel the gate labels\n",
    "path_block = f\"./{circtype}/inst_{inst}_block_cutloc{cutloc}.txt\"\n",
    "replace_integers_with_ascending_order(path_block)"
   ]
  },
  {
   "cell_type": "code",
   "execution_count": 39,
   "metadata": {},
   "outputs": [
    {
     "name": "stdout",
     "output_type": "stream",
     "text": [
      "./logs_boixo/amps_block_is_v1_inst_4x5_11_0_cutloc11_rep0.log\n",
      "./logs_boixo/amps_noblock_is_v1_inst_4x5_11_0_cutloc11_rep0.log\n",
      "All fine within the given tolerance 1e-07\n",
      "All fine within the given tolerance 1e-07\n",
      "--------Full times---------\n",
      "No cut: Mean =0.9645872000000001, std=0.014387540879524905\n",
      "Block: Mean =2.306074, std=0.04277998158017373\n",
      "No Block: Mean =9.13239, std=0.05203089543723022\n",
      "--------Sim times---------\n",
      "No cut: Mean =0.9636134000000001, std=0.014280993979411937\n",
      "Block: Mean =2.305884, std=0.04278775320112048\n",
      "No Block: Mean =9.132290000000001, std=0.05202963271060049\n",
      "-----Paths-----\n",
      "Block: 16384\n",
      "No Block: 65536\n",
      "--------Ratios--------\n",
      "S/J = 0.4182811132686982\n",
      "T/J = 3.9601461184680105\n"
     ]
    }
   ],
   "source": [
    "#after running the bash file, readout the output files\n",
    "reps=5\n",
    "d_flag=2000\n",
    "t=16\n",
    "r_block=5\n",
    "q=20\n",
    "\n",
    "#amplitude checking\n",
    "i=0\n",
    "num_amps=1000000\n",
    "amps_nocut = f\"./logs_boixo/amps_nocut_{circtype}_inst_{inst}_rep0.log\"\n",
    "amps_block = f\"./logs_boixo/amps_block_{circtype}_inst_{inst}_cutloc{cutloc}_rep0.log\"\n",
    "amps_noblock = f\"./logs_boixo/amps_noblock_{circtype}_inst_{inst}_cutloc{cutloc}_rep0.log\"\n",
    "print(amps_block)\n",
    "print(amps_noblock)\n",
    "\n",
    "readout.compare_files(amps_block, amps_nocut)\n",
    "readout.compare_files(amps_noblock, amps_nocut)\n",
    "\n",
    "#print times\n",
    "suffix = \"\"\n",
    "path_nocut = f\"./logs_boixo/times_nocut_{circtype}_inst_{inst}\"\n",
    "path_block = f\"./logs_boixo/times_block_{circtype}_inst_{inst}_cutloc{cutloc}\"\n",
    "path_noblock = f\"./logs_boixo/times_noblock_{circtype}_inst_{inst}_cutloc{cutloc}\"\n",
    "readout.print_diffs(reps, path_nocut, path_block, path_noblock, suffix)"
   ]
  },
  {
   "cell_type": "markdown",
   "metadata": {},
   "source": [
    "### 4x5, iSWAP, `12_0`"
   ]
  },
  {
   "cell_type": "code",
   "execution_count": 40,
   "metadata": {},
   "outputs": [],
   "source": [
    "inst = \"4x5_12_0\"\n",
    "size = \"4x5\"\n",
    "circtype=\"is_v1\"\n",
    "cutloc=11"
   ]
  },
  {
   "cell_type": "code",
   "execution_count": 13,
   "metadata": {},
   "outputs": [],
   "source": [
    "path = f\"./{circtype}/inst_{inst}.txt\"\n",
    "circ = qsimh_into_qiskit(path)\n",
    "#circ.draw()"
   ]
  },
  {
   "cell_type": "code",
   "execution_count": 14,
   "metadata": {},
   "outputs": [],
   "source": [
    "#after shifting the gates, relabel the gate labels\n",
    "path_block = f\"./{circtype}/inst_{inst}_block_cutloc{cutloc}.txt\"\n",
    "replace_integers_with_ascending_order(path_block)"
   ]
  },
  {
   "cell_type": "code",
   "execution_count": 41,
   "metadata": {},
   "outputs": [
    {
     "name": "stdout",
     "output_type": "stream",
     "text": [
      "./logs_boixo/amps_block_is_v1_inst_4x5_12_0_cutloc11_rep0.log\n",
      "./logs_boixo/amps_noblock_is_v1_inst_4x5_12_0_cutloc11_rep0.log\n",
      "All fine within the given tolerance 1e-07\n",
      "All fine within the given tolerance 1e-07\n",
      "--------Full times---------\n",
      "No cut: Mean =0.9809498, std=0.007467368462852231\n",
      "Block: Mean =9.368987999999998, std=0.11534425679677349\n",
      "No Block: Mean =38.29668, std=0.39272545830389044\n",
      "--------Sim times---------\n",
      "No cut: Mean =0.9798332000000001, std=0.007477790085312667\n",
      "Block: Mean =9.36879, std=0.11533903363562545\n",
      "No Block: Mean =38.29658, std=0.39272545830388844\n",
      "-----Paths-----\n",
      "Block: 65536\n",
      "No Block: 262144\n",
      "--------Ratios--------\n",
      "S/J = 0.10470178849626023\n",
      "T/J = 4.087600496446362\n"
     ]
    }
   ],
   "source": [
    "#after running the bash file, readout the output files\n",
    "reps=5\n",
    "d_flag=2000\n",
    "t=16\n",
    "r_block=5\n",
    "q=20\n",
    "\n",
    "#amplitude checking\n",
    "i=0\n",
    "num_amps=1000000\n",
    "amps_nocut = f\"./logs_boixo/amps_nocut_{circtype}_inst_{inst}_rep0.log\"\n",
    "amps_block = f\"./logs_boixo/amps_block_{circtype}_inst_{inst}_cutloc{cutloc}_rep0.log\"\n",
    "amps_noblock = f\"./logs_boixo/amps_noblock_{circtype}_inst_{inst}_cutloc{cutloc}_rep0.log\"\n",
    "print(amps_block)\n",
    "print(amps_noblock)\n",
    "\n",
    "readout.compare_files(amps_block, amps_nocut)\n",
    "readout.compare_files(amps_noblock, amps_nocut)\n",
    "\n",
    "#print times\n",
    "suffix = \"\"\n",
    "path_nocut = f\"./logs_boixo/times_nocut_{circtype}_inst_{inst}\"\n",
    "path_block = f\"./logs_boixo/times_block_{circtype}_inst_{inst}_cutloc{cutloc}\"\n",
    "path_noblock = f\"./logs_boixo/times_noblock_{circtype}_inst_{inst}_cutloc{cutloc}\"\n",
    "readout.print_diffs(reps, path_nocut, path_block, path_noblock, suffix)"
   ]
  },
  {
   "cell_type": "markdown",
   "metadata": {},
   "source": [
    "### 5x5, iSWAP, `10_0`"
   ]
  },
  {
   "cell_type": "code",
   "execution_count": 42,
   "metadata": {},
   "outputs": [],
   "source": [
    "inst = \"5x5_10_0\"\n",
    "size = \"5x5\"\n",
    "circtype=\"is_v1\"\n",
    "cutloc=11"
   ]
  },
  {
   "cell_type": "code",
   "execution_count": 17,
   "metadata": {},
   "outputs": [],
   "source": [
    "#after shifting the gates, relabel the gate labels\n",
    "path_block = f\"./{circtype}/inst_{inst}_block_cutloc{cutloc}.txt\"\n",
    "replace_integers_with_ascending_order(path_block)"
   ]
  },
  {
   "cell_type": "code",
   "execution_count": 43,
   "metadata": {},
   "outputs": [
    {
     "name": "stdout",
     "output_type": "stream",
     "text": [
      "./logs_boixo/amps_block_is_v1_inst_5x5_10_0_cutloc11_rep0.log\n",
      "./logs_boixo/amps_noblock_is_v1_inst_5x5_10_0_cutloc11_rep0.log\n",
      "All fine within the given tolerance 1e-07\n",
      "All fine within the given tolerance 1e-07\n",
      "--------Full times---------\n",
      "No cut: Mean =1.34656, std=0.016370280388557822\n",
      "Block: Mean =0.260617, std=0.00934239932779583\n",
      "No Block: Mean =0.7296278, std=0.0281169695621701\n",
      "--------Sim times---------\n",
      "No cut: Mean =1.3356299999999999, std=0.015649952076603902\n",
      "Block: Mean =0.25464559999999997, std=0.0024551642389054125\n",
      "No Block: Mean =0.7295306, std=0.028116829441457287\n",
      "-----Paths-----\n",
      "Block: 1024\n",
      "No Block: 4096\n",
      "--------Ratios--------\n",
      "S/J = 5.166815672039814\n",
      "T/J = 2.799617062586094\n"
     ]
    }
   ],
   "source": [
    "#after running the bash file, readout the output files\n",
    "reps=5\n",
    "d_flag=2000\n",
    "t=16\n",
    "r_block=5\n",
    "q=20\n",
    "\n",
    "#amplitude checking\n",
    "i=0\n",
    "num_amps=1000000\n",
    "amps_nocut = f\"./logs_boixo/amps_nocut_{circtype}_inst_{inst}_rep0.log\"\n",
    "amps_block = f\"./logs_boixo/amps_block_{circtype}_inst_{inst}_cutloc{cutloc}_rep0.log\"\n",
    "amps_noblock = f\"./logs_boixo/amps_noblock_{circtype}_inst_{inst}_cutloc{cutloc}_rep0.log\"\n",
    "print(amps_block)\n",
    "print(amps_noblock)\n",
    "\n",
    "readout.compare_files(amps_block, amps_nocut)\n",
    "readout.compare_files(amps_noblock, amps_nocut)\n",
    "\n",
    "#print times\n",
    "suffix = \"\"\n",
    "path_nocut = f\"./logs_boixo/times_nocut_{circtype}_inst_{inst}\"\n",
    "path_block = f\"./logs_boixo/times_block_{circtype}_inst_{inst}_cutloc{cutloc}\"\n",
    "path_noblock = f\"./logs_boixo/times_noblock_{circtype}_inst_{inst}_cutloc{cutloc}\"\n",
    "readout.print_diffs(reps, path_nocut, path_block, path_noblock, suffix)"
   ]
  },
  {
   "cell_type": "markdown",
   "metadata": {},
   "source": [
    "### 5x5, iSWAP, `11_0`"
   ]
  },
  {
   "cell_type": "code",
   "execution_count": 44,
   "metadata": {},
   "outputs": [],
   "source": [
    "inst = \"5x5_11_0\"\n",
    "size = \"5x5\"\n",
    "circtype=\"is_v1\"\n",
    "cutloc=11"
   ]
  },
  {
   "cell_type": "code",
   "execution_count": 20,
   "metadata": {},
   "outputs": [],
   "source": [
    "#after shifting the gates, relabel the gate labels\n",
    "path_block = f\"./{circtype}/inst_{inst}_block_cutloc{cutloc}.txt\"\n",
    "replace_integers_with_ascending_order(path_block)"
   ]
  },
  {
   "cell_type": "code",
   "execution_count": 45,
   "metadata": {},
   "outputs": [
    {
     "name": "stdout",
     "output_type": "stream",
     "text": [
      "./logs_boixo/amps_block_is_v1_inst_5x5_11_0_cutloc11_rep0.log\n",
      "./logs_boixo/amps_noblock_is_v1_inst_5x5_11_0_cutloc11_rep0.log\n",
      "All fine within the given tolerance 1e-07\n",
      "All fine within the given tolerance 1e-07\n",
      "--------Full times---------\n",
      "No cut: Mean =1.352198, std=0.055194688657514875\n",
      "Block: Mean =2.593668, std=0.07102621499136781\n",
      "No Block: Mean =10.7638, std=0.07161659025672736\n",
      "--------Sim times---------\n",
      "No cut: Mean =1.34177, std=0.0542907487515138\n",
      "Block: Mean =2.593462, std=0.07103236428558467\n",
      "No Block: Mean =10.759599999999999, std=0.07167381669759165\n",
      "-----Paths-----\n",
      "Block: 16384\n",
      "No Block: 65536\n",
      "--------Ratios--------\n",
      "S/J = 0.5213458314633946\n",
      "T/J = 4.150029996129034\n"
     ]
    }
   ],
   "source": [
    "#after running the bash file, readout the output files\n",
    "reps=5\n",
    "d_flag=2000\n",
    "t=16\n",
    "r_block=5\n",
    "q=20\n",
    "\n",
    "#amplitude checking\n",
    "i=0\n",
    "num_amps=1000000\n",
    "amps_nocut = f\"./logs_boixo/amps_nocut_{circtype}_inst_{inst}_rep0.log\"\n",
    "amps_block = f\"./logs_boixo/amps_block_{circtype}_inst_{inst}_cutloc{cutloc}_rep0.log\"\n",
    "amps_noblock = f\"./logs_boixo/amps_noblock_{circtype}_inst_{inst}_cutloc{cutloc}_rep0.log\"\n",
    "print(amps_block)\n",
    "print(amps_noblock)\n",
    "\n",
    "readout.compare_files(amps_block, amps_nocut)\n",
    "readout.compare_files(amps_noblock, amps_nocut)\n",
    "\n",
    "#print times\n",
    "suffix = \"\"\n",
    "path_nocut = f\"./logs_boixo/times_nocut_{circtype}_inst_{inst}\"\n",
    "path_block = f\"./logs_boixo/times_block_{circtype}_inst_{inst}_cutloc{cutloc}\"\n",
    "path_noblock = f\"./logs_boixo/times_noblock_{circtype}_inst_{inst}_cutloc{cutloc}\"\n",
    "readout.print_diffs(reps, path_nocut, path_block, path_noblock, suffix)"
   ]
  },
  {
   "cell_type": "markdown",
   "metadata": {},
   "source": [
    "### 5x5, iSWAP, `12_0`"
   ]
  },
  {
   "cell_type": "code",
   "execution_count": 46,
   "metadata": {},
   "outputs": [],
   "source": [
    "inst = \"5x5_12_0\"\n",
    "size = \"5x5\"\n",
    "circtype=\"is_v1\"\n",
    "cutloc=11"
   ]
  },
  {
   "cell_type": "code",
   "execution_count": 23,
   "metadata": {},
   "outputs": [],
   "source": [
    "#after shifting the gates, relabel the gate labels\n",
    "path_block = f\"./{circtype}/inst_{inst}_block_cutloc{cutloc}.txt\"\n",
    "replace_integers_with_ascending_order(path_block)"
   ]
  },
  {
   "cell_type": "code",
   "execution_count": 47,
   "metadata": {},
   "outputs": [
    {
     "name": "stdout",
     "output_type": "stream",
     "text": [
      "./logs_boixo/amps_block_is_v1_inst_5x5_12_0_cutloc11_rep0.log\n",
      "./logs_boixo/amps_noblock_is_v1_inst_5x5_12_0_cutloc11_rep0.log\n",
      "All fine within the given tolerance 1e-07\n",
      "All fine within the given tolerance 1e-07\n",
      "--------Full times---------\n",
      "No cut: Mean =1.3662100000000001, std=0.022477806832518113\n",
      "Block: Mean =11.11166, std=0.051938602214538054\n",
      "No Block: Mean =46.8897, std=0.19608901040088908\n",
      "--------Sim times---------\n",
      "No cut: Mean =1.3558540000000001, std=0.02272327494002565\n",
      "Block: Mean =11.11146, std=0.05193860221453773\n",
      "No Block: Mean =46.88958, std=0.19609498106784895\n",
      "-----Paths-----\n",
      "Block: 65536\n",
      "No Block: 262144\n",
      "--------Ratios--------\n",
      "S/J = 0.12295282613038917\n",
      "T/J = 4.219864538691788\n"
     ]
    }
   ],
   "source": [
    "#after running the bash file, readout the output files\n",
    "reps=5\n",
    "d_flag=2000\n",
    "t=16\n",
    "r_block=5\n",
    "q=20\n",
    "\n",
    "#amplitude checking\n",
    "i=0\n",
    "num_amps=1000000\n",
    "amps_nocut = f\"./logs_boixo/amps_nocut_{circtype}_inst_{inst}_rep0.log\"\n",
    "amps_block = f\"./logs_boixo/amps_block_{circtype}_inst_{inst}_cutloc{cutloc}_rep0.log\"\n",
    "amps_noblock = f\"./logs_boixo/amps_noblock_{circtype}_inst_{inst}_cutloc{cutloc}_rep0.log\"\n",
    "print(amps_block)\n",
    "print(amps_noblock)\n",
    "\n",
    "readout.compare_files(amps_block, amps_nocut)\n",
    "readout.compare_files(amps_noblock, amps_nocut)\n",
    "\n",
    "#print times\n",
    "suffix = \"\"\n",
    "path_nocut = f\"./logs_boixo/times_nocut_{circtype}_inst_{inst}\"\n",
    "path_block = f\"./logs_boixo/times_block_{circtype}_inst_{inst}_cutloc{cutloc}\"\n",
    "path_noblock = f\"./logs_boixo/times_noblock_{circtype}_inst_{inst}_cutloc{cutloc}\"\n",
    "readout.print_diffs(reps, path_nocut, path_block, path_noblock, suffix)"
   ]
  },
  {
   "cell_type": "markdown",
   "metadata": {},
   "source": [
    "### 5x6, iSWAP, `10_0`"
   ]
  },
  {
   "cell_type": "code",
   "execution_count": 48,
   "metadata": {},
   "outputs": [],
   "source": [
    "inst = \"5x6_10_0\"\n",
    "size = \"5x6\"\n",
    "circtype=\"is_v1\"\n",
    "cutloc=13"
   ]
  },
  {
   "cell_type": "code",
   "execution_count": 26,
   "metadata": {},
   "outputs": [],
   "source": [
    "#after shifting the gates, relabel the gate labels\n",
    "path_block = f\"./{circtype}/inst_{inst}_block_cutloc{cutloc}.txt\"\n",
    "replace_integers_with_ascending_order(path_block)"
   ]
  },
  {
   "cell_type": "code",
   "execution_count": 49,
   "metadata": {},
   "outputs": [
    {
     "name": "stdout",
     "output_type": "stream",
     "text": [
      "./logs_boixo/amps_block_is_v1_inst_5x6_10_0_cutloc13_rep0.log\n",
      "./logs_boixo/amps_noblock_is_v1_inst_5x6_10_0_cutloc13_rep0.log\n",
      "All fine within the given tolerance 1e-07\n",
      "All fine within the given tolerance 1e-07\n",
      "--------Full times---------\n",
      "No cut: Mean =15.232059999999999, std=0.014591038345504835\n",
      "Block: Mean =1.693786, std=0.010164311289998937\n",
      "No Block: Mean =6.769742000000001, std=0.06448946810138853\n",
      "--------Sim times---------\n",
      "No cut: Mean =14.968799999999998, std=0.015365025219634414\n",
      "Block: Mean =1.6935759999999997, std=0.010160331884343144\n",
      "No Block: Mean =6.769632, std=0.0644908537391156\n",
      "-----Paths-----\n",
      "Block: 4096\n",
      "No Block: 16384\n",
      "--------Ratios--------\n",
      "S/J = 8.992907014227299\n",
      "T/J = 3.9968106950937137\n"
     ]
    }
   ],
   "source": [
    "#after running the bash file, readout the output files\n",
    "reps=5\n",
    "d_flag=2000\n",
    "t=16\n",
    "r_block=5\n",
    "q=20\n",
    "\n",
    "#amplitude checking\n",
    "i=0\n",
    "num_amps=1000000\n",
    "amps_nocut = f\"./logs_boixo/amps_nocut_{circtype}_inst_{inst}_rep0.log\"\n",
    "amps_block = f\"./logs_boixo/amps_block_{circtype}_inst_{inst}_cutloc{cutloc}_rep0.log\"\n",
    "amps_noblock = f\"./logs_boixo/amps_noblock_{circtype}_inst_{inst}_cutloc{cutloc}_rep0.log\"\n",
    "print(amps_block)\n",
    "print(amps_noblock)\n",
    "\n",
    "readout.compare_files(amps_block, amps_nocut)\n",
    "readout.compare_files(amps_noblock, amps_nocut)\n",
    "\n",
    "#print times\n",
    "suffix = \"\"\n",
    "path_nocut = f\"./logs_boixo/times_nocut_{circtype}_inst_{inst}\"\n",
    "path_block = f\"./logs_boixo/times_block_{circtype}_inst_{inst}_cutloc{cutloc}\"\n",
    "path_noblock = f\"./logs_boixo/times_noblock_{circtype}_inst_{inst}_cutloc{cutloc}\"\n",
    "readout.print_diffs(reps, path_nocut, path_block, path_noblock, suffix)"
   ]
  },
  {
   "cell_type": "markdown",
   "metadata": {},
   "source": [
    "### 5x6, iSWAP, `11_0`"
   ]
  },
  {
   "cell_type": "code",
   "execution_count": 50,
   "metadata": {},
   "outputs": [],
   "source": [
    "inst = \"5x6_11_0\"\n",
    "size = \"5x6\"\n",
    "circtype=\"is_v1\"\n",
    "cutloc=13"
   ]
  },
  {
   "cell_type": "code",
   "execution_count": 29,
   "metadata": {},
   "outputs": [],
   "source": [
    "#after shifting the gates, relabel the gate labels\n",
    "path_block = f\"./{circtype}/inst_{inst}_block_cutloc{cutloc}.txt\"\n",
    "replace_integers_with_ascending_order(path_block)"
   ]
  },
  {
   "cell_type": "code",
   "execution_count": 51,
   "metadata": {},
   "outputs": [
    {
     "name": "stdout",
     "output_type": "stream",
     "text": [
      "./logs_boixo/amps_block_is_v1_inst_5x6_11_0_cutloc13_rep0.log\n",
      "./logs_boixo/amps_noblock_is_v1_inst_5x6_11_0_cutloc13_rep0.log\n",
      "All fine within the given tolerance 1e-07\n",
      "All fine within the given tolerance 1e-07\n",
      "--------Full times---------\n",
      "No cut: Mean =16.73244, std=0.016192047430760335\n",
      "Block: Mean =26.98388, std=0.8084800390856912\n",
      "No Block: Mean =121.46940000000002, std=0.7198326472173956\n",
      "--------Sim times---------\n",
      "No cut: Mean =16.46404, std=0.016697377039523387\n",
      "Block: Mean =26.983659999999997, std=0.8085005222014398\n",
      "No Block: Mean =121.46940000000002, std=0.7198326472173956\n",
      "-----Paths-----\n",
      "Block: 65536\n",
      "No Block: 262144\n",
      "--------Ratios--------\n",
      "S/J = 0.6200902168257494\n",
      "T/J = 4.501554261284887\n"
     ]
    }
   ],
   "source": [
    "#after running the bash file, readout the output files\n",
    "reps=5\n",
    "d_flag=2000\n",
    "t=16\n",
    "r_block=5\n",
    "q=20\n",
    "\n",
    "#amplitude checking\n",
    "i=0\n",
    "num_amps=1000000\n",
    "amps_nocut = f\"./logs_boixo/amps_nocut_{circtype}_inst_{inst}_rep0.log\"\n",
    "amps_block = f\"./logs_boixo/amps_block_{circtype}_inst_{inst}_cutloc{cutloc}_rep0.log\"\n",
    "amps_noblock = f\"./logs_boixo/amps_noblock_{circtype}_inst_{inst}_cutloc{cutloc}_rep0.log\"\n",
    "print(amps_block)\n",
    "print(amps_noblock)\n",
    "\n",
    "readout.compare_files(amps_block, amps_nocut)\n",
    "readout.compare_files(amps_noblock, amps_nocut)\n",
    "\n",
    "#print times\n",
    "suffix = \"\"\n",
    "path_nocut = f\"./logs_boixo/times_nocut_{circtype}_inst_{inst}\"\n",
    "path_block = f\"./logs_boixo/times_block_{circtype}_inst_{inst}_cutloc{cutloc}\"\n",
    "path_noblock = f\"./logs_boixo/times_noblock_{circtype}_inst_{inst}_cutloc{cutloc}\"\n",
    "readout.print_diffs(reps, path_nocut, path_block, path_noblock, suffix)"
   ]
  },
  {
   "cell_type": "markdown",
   "metadata": {},
   "source": [
    "### 5x6, iSWAP, `12_0`"
   ]
  },
  {
   "cell_type": "code",
   "execution_count": 52,
   "metadata": {},
   "outputs": [],
   "source": [
    "inst = \"5x6_12_0\"\n",
    "size = \"5x6\"\n",
    "circtype=\"is_v1\"\n",
    "cutloc=13"
   ]
  },
  {
   "cell_type": "code",
   "execution_count": 32,
   "metadata": {},
   "outputs": [],
   "source": [
    "#after shifting the gates, relabel the gate labels\n",
    "path_block = f\"./{circtype}/inst_{inst}_block_cutloc{cutloc}.txt\"\n",
    "replace_integers_with_ascending_order(path_block)"
   ]
  },
  {
   "cell_type": "code",
   "execution_count": 53,
   "metadata": {},
   "outputs": [
    {
     "name": "stdout",
     "output_type": "stream",
     "text": [
      "./logs_boixo/amps_block_is_v1_inst_5x6_12_0_cutloc13_rep0.log\n",
      "./logs_boixo/amps_noblock_is_v1_inst_5x6_12_0_cutloc13_rep0.log\n",
      "All fine within the given tolerance 1e-07\n",
      "All fine within the given tolerance 1e-07\n",
      "--------Full times---------\n",
      "No cut: Mean =17.90708, std=0.02553205044644872\n",
      "Block: Mean =113.98180000000002, std=1.033307388921612\n",
      "No Block: Mean =522.1740000000001, std=6.689097547502207\n",
      "--------Sim times---------\n",
      "No cut: Mean =17.64322, std=0.026460491303072757\n",
      "Block: Mean =113.9816, std=1.0332087107646735\n",
      "No Block: Mean =522.1738, std=6.68932804996137\n",
      "-----Paths-----\n",
      "Block: 262144\n",
      "No Block: 1048576\n",
      "--------Ratios--------\n",
      "S/J = 0.1571047307552609\n",
      "T/J = 4.581205069581284\n"
     ]
    }
   ],
   "source": [
    "#after running the bash file, readout the output files\n",
    "reps=5\n",
    "d_flag=2000\n",
    "t=16\n",
    "r_block=5\n",
    "q=20\n",
    "\n",
    "#amplitude checking\n",
    "i=0\n",
    "num_amps=1000000\n",
    "amps_nocut = f\"./logs_boixo/amps_nocut_{circtype}_inst_{inst}_rep0.log\"\n",
    "amps_block = f\"./logs_boixo/amps_block_{circtype}_inst_{inst}_cutloc{cutloc}_rep0.log\"\n",
    "amps_noblock = f\"./logs_boixo/amps_noblock_{circtype}_inst_{inst}_cutloc{cutloc}_rep0.log\"\n",
    "print(amps_block)\n",
    "print(amps_noblock)\n",
    "\n",
    "readout.compare_files(amps_block, amps_nocut)\n",
    "readout.compare_files(amps_noblock, amps_nocut)\n",
    "\n",
    "#print times\n",
    "suffix = \"\"\n",
    "path_nocut = f\"./logs_boixo/times_nocut_{circtype}_inst_{inst}\"\n",
    "path_block = f\"./logs_boixo/times_block_{circtype}_inst_{inst}_cutloc{cutloc}\"\n",
    "path_noblock = f\"./logs_boixo/times_noblock_{circtype}_inst_{inst}_cutloc{cutloc}\"\n",
    "readout.print_diffs(reps, path_nocut, path_block, path_noblock, suffix)"
   ]
  }
 ],
 "metadata": {
  "kernelspec": {
   "display_name": ".venv",
   "language": "python",
   "name": "python3"
  },
  "language_info": {
   "codemirror_mode": {
    "name": "ipython",
    "version": 3
   },
   "file_extension": ".py",
   "mimetype": "text/x-python",
   "name": "python",
   "nbconvert_exporter": "python",
   "pygments_lexer": "ipython3",
   "version": "3.10.12"
  }
 },
 "nbformat": 4,
 "nbformat_minor": 2
}
