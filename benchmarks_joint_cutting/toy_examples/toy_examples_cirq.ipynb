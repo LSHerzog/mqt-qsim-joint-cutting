{
 "cells": [
  {
   "cell_type": "code",
   "execution_count": 1,
   "metadata": {},
   "outputs": [],
   "source": [
    "import sys\n",
    "sys.path.append(\"../../\")\n",
    "import qsimcirq\n",
    "import cirq\n",
    "import numpy as np\n",
    "import importlib\n",
    "importlib.reload(qsimcirq)\n",
    "import matplotlib.pyplot as plt"
   ]
  },
  {
   "cell_type": "markdown",
   "metadata": {},
   "source": [
    "Test Hadamard and CNOT (Bell state preparation)"
   ]
  },
  {
   "cell_type": "code",
   "execution_count": 2,
   "metadata": {},
   "outputs": [
    {
     "name": "stdout",
     "output_type": "stream",
     "text": [
      "Circuit (block):\n",
      "0: ───────BlockGate(CNOT(q(1), q(0)), CNOT(q(1), q(2)))───\n",
      "          │\n",
      "1: ───H───#2──────────────────────────────────────────────\n",
      "          │\n",
      "2: ───────#3──────────────────────────────────────────────\n"
     ]
    }
   ],
   "source": [
    "# Define qubits\n",
    "q0 = cirq.LineQubit(0)\n",
    "q1 = cirq.LineQubit(1)\n",
    "q2 = cirq.LineQubit(2)\n",
    "\n",
    "block_gate2 = qsimcirq.BlockGate([\n",
    "    cirq.CNOT(q1, q0),\n",
    "    cirq.CNOT(q1, q2)\n",
    "])\n",
    "\n",
    "# Create a circuit and add the BlockOperation\n",
    "circuit_block = cirq.Circuit(\n",
    "    cirq.H(q1),\n",
    "    block_gate2(q0,q1,q2),  # Add the BlockOperation directly\n",
    "\n",
    ")\n",
    "print(\"Circuit (block):\")\n",
    "print(circuit_block)\n"
   ]
  },
  {
   "cell_type": "code",
   "execution_count": 3,
   "metadata": {},
   "outputs": [
    {
     "name": "stdout",
     "output_type": "stream",
     "text": [
      "Circuit (no block):\n",
      "0: ───────X───────\n",
      "          │\n",
      "1: ───H───@───@───\n",
      "              │\n",
      "2: ───────────X───\n"
     ]
    }
   ],
   "source": [
    "circuit_noblock = cirq.Circuit(\n",
    "    cirq.H(q1),\n",
    "    cirq.CNOT(q1, q0),\n",
    "    cirq.CNOT(q1, q2)    \n",
    ")\n",
    "print(\"Circuit (no block):\")\n",
    "print(circuit_noblock)"
   ]
  },
  {
   "cell_type": "code",
   "execution_count": 4,
   "metadata": {},
   "outputs": [
    {
     "name": "stdout",
     "output_type": "stream",
     "text": [
      "  ╷ 1\n",
      "╶─┼───\n",
      "0 │ H\n",
      "  │\n",
      "  ╷ 0                                             1  2\n",
      "╶─┼─────────────────────────────────────────────────────\n",
      "0 │ BlockGate(CNOT(q(1), q(0)), CNOT(q(1), q(2)))─#2─#3\n",
      "  │\n",
      "moment type <class 'cirq.circuits.moment.Moment'> moment.operations (cirq.H(cirq.LineQubit(1)),)\n",
      "moment.op type <class 'cirq.ops.gate_operation.GateOperation'>\n",
      "moment gate <class 'cirq.ops.common_gates.HPowGate'>\n",
      "other case\n",
      "moment type <class 'cirq.circuits.moment.Moment'> moment.operations (BlockGate([cirq.CNOT(cirq.LineQubit(1), cirq.LineQubit(0)), cirq.CNOT(cirq.LineQubit(1), cirq.LineQubit(2))]).on(cirq.LineQubit(0), cirq.LineQubit(1), cirq.LineQubit(2)),)\n",
      "moment.op type <class 'cirq.ops.gate_operation.GateOperation'>\n",
      "moment gate <class 'qsimcirq.block_gate.BlockGate'>\n",
      "case block\n",
      "gate_kind_temp GateKind.kCX\n",
      "time 1\n",
      "qubits_temp [1, 0]\n",
      "params {'exponent': 1.0, 'global_shift': 0.0}\n",
      "gates_temp after create_gate appended [<qsimcirq.qsim_avx512.GateCirq object at 0x7f0abb8a6430>]\n",
      "gate_kind_temp GateKind.kCX\n",
      "time 1\n",
      "qubits_temp [1, 2]\n",
      "params {'exponent': 1.0, 'global_shift': 0.0}\n",
      "gates_temp after create_gate appended [<qsimcirq.qsim_avx512.GateCirq object at 0x7f0abb8a6430>, <qsimcirq.qsim_avx512.GateCirq object at 0x7f0aba87dcf0>]\n",
      "block_size 3 block_size_glob 3\n",
      "qubits_locations_tup [[2, 1], [1, 0]]\n",
      "joint gate <qsimcirq.qsim_avx512.GateCirq object at 0x7f0aba87e030>\n",
      "circuit gates before [<qsimcirq.qsim_avx512.GateCirq object at 0x7f0aba87dfb0>]\n",
      "circuit gates after [<qsimcirq.qsim_avx512.GateCirq object at 0x7f0aba87dfb0>, <qsimcirq.qsim_avx512.GateCirq object at 0x7f0aba87dff0>]\n",
      "qsim_circuit [<qsimcirq.qsim_avx512.GateCirq object at 0x7f0abb86cf30>, <qsimcirq.qsim_avx512.GateCirq object at 0x7f0abad5a270>]\n",
      "upside down cnot\n",
      "standard cnot\n",
      "flattened\n",
      "0 1 2 \n",
      "flattened_full\n",
      "0 1 2 \n",
      "qubits_tups_red\n",
      "2 1 \n",
      "1 0 \n",
      "hybrid.h: gate.qubits\n",
      "0 1 2 \n",
      "10000000000000000010000000000000000000000000001000000000000010000000000010000000000000000010000000000010000000000000100000000000\n",
      "-1 0 0 0 0 0 0 0 0 0 -1 0 0 0 0 0 0 0 0 0 0 0 0 0 0 0 0 0 0 0 0 0 ----1 0 0 0 0 0 -1 0 ---\n",
      "0 0 0 0 4.21469e-08 0 0 0 0 0 0 0 0 0 0 0 0 0 0 0 0 0 -1 0 0 0 0 0 -1 0 0 0 ---0 0 -1 0 -1 0 -1.68587e-07 0 ---\n",
      "Time for SchmidtDecomposition: 0.0141401\n",
      "rmax: 2\n",
      "smax: 1\n",
      "Number of Feynman Paths: 2\n"
     ]
    }
   ],
   "source": [
    "options = {}\n",
    "\n",
    "# 'k' indicates the qubits on one side of the cut.\n",
    "options['k'] = [0,1]\n",
    "\n",
    "# 'p' and 'r' control when values are assigned to cut indices.\n",
    "options['p'] = 0\n",
    "options['r'] = 1\n",
    "\n",
    "# 'w' indicates the value pre-assigned to the cut.\n",
    "# This should change for each execution.\n",
    "options['w'] = 0\n",
    "\n",
    "# Create the qsimh simulator with those options.\n",
    "qsimh_simulator = qsimcirq.QSimhSimulator(options)\n",
    "results_0 = qsimh_simulator.compute_amplitudes(\n",
    "    circuit_block, bitstrings=[0b000, 0b001, 0b010, 0b011, 0b100, 0b101, 0b110, 0b111])"
   ]
  },
  {
   "cell_type": "code",
   "execution_count": 5,
   "metadata": {},
   "outputs": [
    {
     "name": "stdout",
     "output_type": "stream",
     "text": [
      "  ╷ 1\n",
      "╶─┼───\n",
      "0 │ H\n",
      "  │\n",
      "  ╷ 0 1\n",
      "╶─┼─────\n",
      "0 │ X─@\n",
      "  │\n",
      "  ╷ 1 2\n",
      "╶─┼─────\n",
      "0 │ @─X\n",
      "  │\n",
      "moment type <class 'cirq.circuits.moment.Moment'> moment.operations (cirq.H(cirq.LineQubit(1)),)\n",
      "moment.op type <class 'cirq.ops.gate_operation.GateOperation'>\n",
      "moment gate <class 'cirq.ops.common_gates.HPowGate'>\n",
      "other case\n",
      "moment type <class 'cirq.circuits.moment.Moment'> moment.operations (cirq.CNOT(cirq.LineQubit(1), cirq.LineQubit(0)),)\n",
      "moment.op type <class 'cirq.ops.gate_operation.GateOperation'>\n",
      "moment gate <class 'cirq.ops.common_gates.CXPowGate'>\n",
      "other case\n",
      "moment type <class 'cirq.circuits.moment.Moment'> moment.operations (cirq.CNOT(cirq.LineQubit(1), cirq.LineQubit(2)),)\n",
      "moment.op type <class 'cirq.ops.gate_operation.GateOperation'>\n",
      "moment gate <class 'cirq.ops.common_gates.CXPowGate'>\n",
      "other case\n",
      "qsim_circuit [<qsimcirq.qsim_avx512.GateCirq object at 0x7f0aba8900b0>, <qsimcirq.qsim_avx512.GateCirq object at 0x7f0ae8969270>, <qsimcirq.qsim_avx512.GateCirq object at 0x7f0ae8c9faf0>]\n",
      "qsim results:\n",
      "[(0.7071067690849304+0j), 0j, 0j, 0j, 0j, 0j, 0j, (0.7071067690849304+0j)]\n",
      "standard cnot\n",
      "upside down cnot\n"
     ]
    }
   ],
   "source": [
    "#no cut\n",
    "qsim_simulator = qsimcirq.QSimSimulator()\n",
    "results_noblock = qsim_simulator.compute_amplitudes(circuit_noblock, bitstrings=[0b000, 0b001, 0b010, 0b011, 0b100, 0b101, 0b110, 0b111])\n",
    "print(\"qsim results:\")\n",
    "print(results_noblock)"
   ]
  },
  {
   "cell_type": "code",
   "execution_count": 6,
   "metadata": {},
   "outputs": [
    {
     "data": {
      "text/plain": [
       "8.940696716308594e-08"
      ]
     },
     "execution_count": 6,
     "metadata": {},
     "output_type": "execute_result"
    }
   ],
   "source": [
    "results_0 = np.array(results_0)\n",
    "results_noblock = np.array(results_noblock)\n",
    "np.linalg.norm(results_0 - results_noblock)"
   ]
  },
  {
   "cell_type": "markdown",
   "metadata": {},
   "source": [
    "A more random block to test whether flipped gates work (if they are not symmetric under flipping the qubits and I had to add a case)"
   ]
  },
  {
   "cell_type": "code",
   "execution_count": 7,
   "metadata": {},
   "outputs": [
    {
     "name": "stdout",
     "output_type": "stream",
     "text": [
      "Circuit (block):\n",
      "0: ───H───BlockGate(CNOT**0.07639437268410976(q(2), q(0)), CNOT**0.4265352474862795(q(1), q(0)), PhasedISWAP(exponent=2.1, global_shift=0.2)(q(2), q(0)), PhasedISWAP**0.12732395447351627(q(1), q(0)))───\n",
      "          │\n",
      "1: ───H───#2──────────────────────────────────────────────────────────────────────────────────────────────────────────────────────────────────────────────────────────────────────────────────────────────\n",
      "          │\n",
      "2: ───H───#3──────────────────────────────────────────────────────────────────────────────────────────────────────────────────────────────────────────────────────────────────────────────────────────────\n"
     ]
    }
   ],
   "source": [
    "# Define qubits\n",
    "q0 = cirq.LineQubit(0)\n",
    "q1 = cirq.LineQubit(1)\n",
    "q2 = cirq.LineQubit(2)\n",
    "\n",
    "theta1 = 0.24\n",
    "theta2 = 1.34\n",
    "\n",
    "block_gate2 = qsimcirq.BlockGate([\n",
    "    cirq.CXPowGate(exponent=theta1/np.pi, global_shift=-0.5).on(q2,q0),\n",
    "    cirq.CXPowGate(exponent=theta2/np.pi, global_shift=-0.5).on(q1,q0),\n",
    "    cirq.PhasedISwapPowGate(phase_exponent=2.5, exponent=2.1, global_shift=0.2).on(q2,q0),\n",
    "    cirq.givens(angle_rads=0.2).on(q1,q0),  \n",
    "])\n",
    "\n",
    "# Create a circuit and add the BlockOperation\n",
    "circuit_block = cirq.Circuit(\n",
    "    cirq.H(q0),\n",
    "    cirq.H(q1),\n",
    "    cirq.H(q2),\n",
    "    block_gate2(q0,q1,q2),  # Add the BlockOperation directly\n",
    "\n",
    ")\n",
    "\n",
    "print(\"Circuit (block):\")\n",
    "print(circuit_block)\n"
   ]
  },
  {
   "cell_type": "code",
   "execution_count": 8,
   "metadata": {},
   "outputs": [
    {
     "name": "stdout",
     "output_type": "stream",
     "text": [
      "Circuit (no block):\n",
      "0: ───H───X^(1/13)───X^0.427───PhISwap(0.5)────────PhISwap(0.25)─────────\n",
      "          │          │         │                   │\n",
      "1: ───H───┼──────────@─────────┼───────────────────PhISwap(0.25)^0.127───\n",
      "          │                    │\n",
      "2: ───H───@────────────────────PhISwap(0.5)^-1.9─────────────────────────\n"
     ]
    }
   ],
   "source": [
    "circuit_noblock = cirq.Circuit(\n",
    "    cirq.H(q0),\n",
    "    cirq.H(q1),\n",
    "    cirq.H(q2),\n",
    "    cirq.CXPowGate(exponent=theta1/np.pi, global_shift=-0.5).on(q2,q0),\n",
    "    cirq.CXPowGate(exponent=theta2/np.pi, global_shift=-0.5).on(q1,q0),\n",
    "    cirq.PhasedISwapPowGate(phase_exponent=2.5, exponent=2.1, global_shift=0.2).on(q2,q0),\n",
    "    cirq.givens(angle_rads=0.2).on(q1,q0), \n",
    ")\n",
    "print(\"Circuit (no block):\")\n",
    "print(circuit_noblock)"
   ]
  },
  {
   "cell_type": "code",
   "execution_count": 9,
   "metadata": {},
   "outputs": [
    {
     "name": "stdout",
     "output_type": "stream",
     "text": [
      "  ╷ 0 1 2\n",
      "╶─┼───────\n",
      "0 │ H H H\n",
      "  │\n",
      "  ╷ 0                                                                                                                                                                                             1  2\n",
      "╶─┼─────────────────────────────────────────────────────────────────────────────────────────────────────────────────────────────────────────────────────────────────────────────────────────────────────\n",
      "0 │ BlockGate(CNOT**0.07639437268410976(q(2), q(0)), CNOT**0.4265352474862795(q(1), q(0)), PhasedISWAP(exponent=2.1, global_shift=0.2)(q(2), q(0)), PhasedISWAP**0.12732395447351627(q(1), q(0)))─#2─#3\n",
      "  │\n",
      "moment type <class 'cirq.circuits.moment.Moment'> moment.operations (cirq.H(cirq.LineQubit(0)), cirq.H(cirq.LineQubit(1)), cirq.H(cirq.LineQubit(2)))\n",
      "moment.op type <class 'cirq.ops.gate_operation.GateOperation'>\n",
      "moment gate <class 'cirq.ops.common_gates.HPowGate'>\n",
      "other case\n",
      "moment type <class 'cirq.circuits.moment.Moment'> moment.operations (BlockGate([cirq.CXPowGate(exponent=0.07639437268410976, global_shift=-0.5).on(cirq.LineQubit(2), cirq.LineQubit(0)), cirq.CXPowGate(exponent=0.4265352474862795, global_shift=-0.5).on(cirq.LineQubit(1), cirq.LineQubit(0)), cirq.PhasedISwapPowGate(phase_exponent=0.5, exponent=2.1, global_shift=0.2).on(cirq.LineQubit(2), cirq.LineQubit(0)), cirq.PhasedISwapPowGate(phase_exponent=0.25, exponent=0.12732395447351627).on(cirq.LineQubit(1), cirq.LineQubit(0))]).on(cirq.LineQubit(0), cirq.LineQubit(1), cirq.LineQubit(2)),)\n",
      "moment.op type <class 'cirq.ops.gate_operation.GateOperation'>\n",
      "moment gate <class 'qsimcirq.block_gate.BlockGate'>\n",
      "case block\n",
      "gate_kind_temp GateKind.kCXPowGate\n",
      "time 1\n",
      "qubits_temp [2, 0]\n",
      "params {'exponent': 0.07639437268410976, 'global_shift': -0.5}\n",
      "gates_temp after create_gate appended [<qsimcirq.qsim_avx512.GateCirq object at 0x7f0abad68cb0>]\n",
      "gate_kind_temp GateKind.kCXPowGate\n",
      "time 1\n",
      "qubits_temp [1, 0]\n",
      "params {'exponent': 0.4265352474862795, 'global_shift': -0.5}\n",
      "gates_temp after create_gate appended [<qsimcirq.qsim_avx512.GateCirq object at 0x7f0abad68cb0>, <qsimcirq.qsim_avx512.GateCirq object at 0x7f0aba90b0f0>]\n",
      "gate_kind_temp GateKind.kPhasedISwapPowGate\n",
      "time 1\n",
      "qubits_temp [2, 0]\n",
      "params {'phase_exponent': 0.5, 'exponent': 2.1, 'global_shift': 0.2}\n",
      "gates_temp after create_gate appended [<qsimcirq.qsim_avx512.GateCirq object at 0x7f0abad68cb0>, <qsimcirq.qsim_avx512.GateCirq object at 0x7f0aba90b0f0>, <qsimcirq.qsim_avx512.GateCirq object at 0x7f0abb8b4530>]\n",
      "gate_kind_temp GateKind.kPhasedISwapPowGate\n",
      "time 1\n",
      "qubits_temp [1, 0]\n",
      "params {'phase_exponent': 0.25, 'exponent': 0.12732395447351627, 'global_shift': 0.0}\n",
      "gates_temp after create_gate appended [<qsimcirq.qsim_avx512.GateCirq object at 0x7f0abad68cb0>, <qsimcirq.qsim_avx512.GateCirq object at 0x7f0aba90b0f0>, <qsimcirq.qsim_avx512.GateCirq object at 0x7f0abb8b4530>, <qsimcirq.qsim_avx512.GateCirq object at 0x7f0ab26d7570>]\n",
      "block_size 3 block_size_glob 3\n",
      "qubits_locations_tup [[2, 0], [2, 1], [2, 0], [2, 1]]\n",
      "joint gate <qsimcirq.qsim_avx512.GateCirq object at 0x7f0ab26e0830>\n",
      "circuit gates before [<qsimcirq.qsim_avx512.GateCirq object at 0x7f0ab26e08b0>, <qsimcirq.qsim_avx512.GateCirq object at 0x7f0ab26e0870>, <qsimcirq.qsim_avx512.GateCirq object at 0x7f0ab26e07f0>]\n",
      "circuit gates after [<qsimcirq.qsim_avx512.GateCirq object at 0x7f0ab26e08b0>, <qsimcirq.qsim_avx512.GateCirq object at 0x7f0ab26e0870>, <qsimcirq.qsim_avx512.GateCirq object at 0x7f0ab26e07f0>, <qsimcirq.qsim_avx512.GateCirq object at 0x7f0ab26e0e30>]\n",
      "qsim_circuit [<qsimcirq.qsim_avx512.GateCirq object at 0x7f0bbc1709b0>, <qsimcirq.qsim_avx512.GateCirq object at 0x7f0abb8a66f0>, <qsimcirq.qsim_avx512.GateCirq object at 0x7f0bbc15c530>, <qsimcirq.qsim_avx512.GateCirq object at 0x7f0abad68cb0>]\n",
      "flattened\n",
      "0 1 2 \n",
      "flattened_full\n",
      "0 1 2 \n",
      "qubits_tups_red\n",
      "2 0 \n",
      "2 1 \n",
      "2 0 \n",
      "2 1 \n",
      "hybrid.h: gate.qubits\n",
      "0 1 2 \n",
      "0.703845-0.7103530000000000000000-0.7686040.6089300000.1111240.1101060.07342440.09267780000000.01916070.0241850.762673-0.091962600-0.1381110.1393880.00291621-0.00231038-0.0728578-0.6042310000-0.014769-0.01864170.0945225-0.0113975-0.6813220000.154601-0.1224840.01438610.11930800.687622000.09452250.119308-0.1546010.018641700-0.6813230.6876220.0143861-0.01139750.0147690.1224840000-0.0728578-0.0919626-0.01916070.002310380.1381116.03702e-09000.762673-0.604231-0.00291621-0.0241856.09284e-09-0.13938800000.07342440.60893-9.62574e-090.1101060000-0.7686040.09267780.1111249.71474e-090000000-0.7103530000000.7038450\n",
      "-1.18447 1.27345e-10 0.00555963 0.000670378 0.00559989 -2.42355e-10 1.17595 0.141795 ----0.588448 0.593889 3.84601e-09 2.7424e-10 0.0356761 0.0353493 0 0 -0.00708775 -0.00702281 -0.607284 0.0732259 0.116907 -0.117987 0.0655311 0.543469 -0.034965 -0.0346446 0.123103 -0.0148436 0.576718 -0.582051 -0.0132838 -0.110167 0 0 -0.066864 -0.554523 0 0 0.619636 -0.0747152 ---\n",
      "0.226132 6.8046e-09 -0.29413 -0.035466 0.296261 -4.0896e-08 0.224506 0.0270708 ---0.011123 -0.0112256 7.41625e-09 5.28816e-10 0.186869 0.185157 0 0 -0.0371252 -0.0367851 0.171005 -0.0206197 -0.00220975 0.0022302 0.0230407 0.191084 -0.183144 -0.181466 -0.0346644 0.00417981 -0.010901 0.0110018 -0.00467059 -0.0387347 0 0 -0.0235094 -0.194971 0 0 -0.174483 0.021039 ---\n",
      "0.00157099 2.38039e-09 0.329898 0.0397803 0.332288 1.33398e-06 -0.00155968 -0.000188075 ---0.00991679 -0.0100086 -6.48108e-11 -4.62054e-12 0.166609 0.165081 0 0 0.0331001 0.0327966 0.152464 -0.0183846 0.00197016 -0.0019884 0.0205434 0.170366 0.163288 0.161791 -0.0309059 0.00372674 0.00971912 -0.00980907 -0.00416434 -0.034535 0 0 0.0209612 0.173831 0 0 0.155565 -0.0187585 ---\n",
      "0.0831127 9.08218e-10 0.0629828 0.00759442 -0.063439 8.52715e-09 0.082515 0.0099496 ---0.0519446 -0.0524238 3.4634e-08 2.46958e-09 -0.00314925 -0.00312043 0 0 -0.000625651 -0.000619913 0.0536063 -0.00646409 0.0103196 -0.010415 -0.00578483 -0.0479733 -0.00308639 -0.00305817 -0.0108666 0.00131033 0.0509086 -0.051379 0.00117262 0.00972464 0 0 -0.00590214 -0.0489492 0 0 0.0546969 -0.00659517 ---\n",
      "Time for SchmidtDecomposition: 0.00035336\n",
      "rmax: 4\n",
      "smax: 1\n",
      "Number of Feynman Paths: 4\n"
     ]
    }
   ],
   "source": [
    "options = {}\n",
    "\n",
    "# 'k' indicates the qubits on one side of the cut.\n",
    "options['k'] = [0]\n",
    "\n",
    "# 'p' and 'r' control when values are assigned to cut indices.\n",
    "options['p'] = 0\n",
    "options['r'] = 1\n",
    "\n",
    "# 'w' indicates the value pre-assigned to the cut.\n",
    "# This should change for each execution.\n",
    "options['w'] = 0\n",
    "\n",
    "# Create the qsimh simulator with those options.\n",
    "qsimh_simulator = qsimcirq.QSimhSimulator(options)\n",
    "results_0 = qsimh_simulator.compute_amplitudes(\n",
    "    circuit_block, bitstrings=[0b000, 0b001, 0b010, 0b011, 0b100, 0b101, 0b110, 0b111])"
   ]
  },
  {
   "cell_type": "code",
   "execution_count": 10,
   "metadata": {},
   "outputs": [
    {
     "name": "stdout",
     "output_type": "stream",
     "text": [
      "  ╷ 0 1 2\n",
      "╶─┼───────\n",
      "0 │ H H H\n",
      "  │\n",
      "  ╷ 0                     2\n",
      "╶─┼─────────────────────────\n",
      "0 │ X^0.07639437268410976─@\n",
      "  │\n",
      "  ╷ 0                    1\n",
      "╶─┼────────────────────────\n",
      "0 │ X^0.4265352474862795─@\n",
      "  │\n",
      "  ╷ 0            2\n",
      "╶─┼────────────────────────────────\n",
      "0 │ PhISwap(0.5)─PhISwap(0.5)^-1.9\n",
      "  │\n",
      "  ╷ 0             1\n",
      "╶─┼─────────────────────────────────────────────────\n",
      "0 │ PhISwap(0.25)─PhISwap(0.25)^0.12732395447351627\n",
      "  │\n",
      "moment type <class 'cirq.circuits.moment.Moment'> moment.operations (cirq.H(cirq.LineQubit(0)), cirq.H(cirq.LineQubit(1)), cirq.H(cirq.LineQubit(2)))\n",
      "moment.op type <class 'cirq.ops.gate_operation.GateOperation'>\n",
      "moment gate <class 'cirq.ops.common_gates.HPowGate'>\n",
      "other case\n",
      "moment type <class 'cirq.circuits.moment.Moment'> moment.operations (cirq.CXPowGate(exponent=0.07639437268410976, global_shift=-0.5).on(cirq.LineQubit(2), cirq.LineQubit(0)),)\n",
      "moment.op type <class 'cirq.ops.gate_operation.GateOperation'>\n",
      "moment gate <class 'cirq.ops.common_gates.CXPowGate'>\n",
      "other case\n",
      "moment type <class 'cirq.circuits.moment.Moment'> moment.operations (cirq.CXPowGate(exponent=0.4265352474862795, global_shift=-0.5).on(cirq.LineQubit(1), cirq.LineQubit(0)),)\n",
      "moment.op type <class 'cirq.ops.gate_operation.GateOperation'>\n",
      "moment gate <class 'cirq.ops.common_gates.CXPowGate'>\n",
      "other case\n",
      "moment type <class 'cirq.circuits.moment.Moment'> moment.operations (cirq.PhasedISwapPowGate(phase_exponent=0.5, exponent=2.1, global_shift=0.2).on(cirq.LineQubit(2), cirq.LineQubit(0)),)\n",
      "moment.op type <class 'cirq.ops.gate_operation.GateOperation'>\n",
      "moment gate <class 'cirq.ops.phased_iswap_gate.PhasedISwapPowGate'>\n",
      "other case\n",
      "moment type <class 'cirq.circuits.moment.Moment'> moment.operations (cirq.PhasedISwapPowGate(phase_exponent=0.25, exponent=0.12732395447351627).on(cirq.LineQubit(1), cirq.LineQubit(0)),)\n",
      "moment.op type <class 'cirq.ops.gate_operation.GateOperation'>\n",
      "moment gate <class 'cirq.ops.phased_iswap_gate.PhasedISwapPowGate'>\n",
      "other case\n",
      "qsim_circuit [<qsimcirq.qsim_avx512.GateCirq object at 0x7f0abbb17f30>, <qsimcirq.qsim_avx512.GateCirq object at 0x7f0abda259f0>, <qsimcirq.qsim_avx512.GateCirq object at 0x7f0aba88e3b0>, <qsimcirq.qsim_avx512.GateCirq object at 0x7f0aba88fbf0>, <qsimcirq.qsim_avx512.GateCirq object at 0x7f0aba877330>, <qsimcirq.qsim_avx512.GateCirq object at 0x7f0aba8741b0>, <qsimcirq.qsim_avx512.GateCirq object at 0x7f0aba875370>]\n",
      "qsim results:\n",
      "[(0.2488468736410141-0.2511478066444397j), (-0.2064950168132782+0.2869839668273926j), (0.20286229252815247-0.18912667036056519j), (-0.15294063091278076+0.2313680499792099j), (-0.25181710720062256+0.3311587870121002j), (0.28491073846817017-0.3031564950942993j), (-0.2064950168132782+0.2869839668273926j), (0.2488468736410141-0.2511478066444397j)]\n"
     ]
    }
   ],
   "source": [
    "#no cut\n",
    "qsim_simulator = qsimcirq.QSimSimulator()\n",
    "results_noblock = qsim_simulator.compute_amplitudes(circuit_noblock, bitstrings=[0b000, 0b001, 0b010, 0b011, 0b100, 0b101, 0b110, 0b111])\n",
    "print(\"qsim results:\")\n",
    "print(results_noblock)"
   ]
  },
  {
   "cell_type": "code",
   "execution_count": 11,
   "metadata": {},
   "outputs": [
    {
     "data": {
      "text/plain": [
       "3.3052374441651755e-07"
      ]
     },
     "execution_count": 11,
     "metadata": {},
     "output_type": "execute_result"
    }
   ],
   "source": [
    "results_0 = np.array(results_0)\n",
    "results_noblock = np.array(results_noblock)\n",
    "np.linalg.norm(results_0 - results_noblock)"
   ]
  },
  {
   "cell_type": "code",
   "execution_count": null,
   "metadata": {},
   "outputs": [],
   "source": []
  }
 ],
 "metadata": {
  "kernelspec": {
   "display_name": "Python 3",
   "language": "python",
   "name": "python3"
  },
  "language_info": {
   "codemirror_mode": {
    "name": "ipython",
    "version": 3
   },
   "file_extension": ".py",
   "mimetype": "text/x-python",
   "name": "python",
   "nbconvert_exporter": "python",
   "pygments_lexer": "ipython3",
   "version": "3.10.12"
  }
 },
 "nbformat": 4,
 "nbformat_minor": 2
}
