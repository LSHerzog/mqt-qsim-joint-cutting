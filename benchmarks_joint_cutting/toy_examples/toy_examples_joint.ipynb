{
 "cells": [
  {
   "cell_type": "markdown",
   "metadata": {},
   "source": [
    "# Tutorial with Toy Examples for Joint Cutting in `qsimh`\n",
    "\n",
    "This file runs a few toy examples and shows how joint cutting can be employed. Furthermore utility functions are used to read out the output files."
   ]
  },
  {
   "cell_type": "code",
   "execution_count": 6,
   "metadata": {},
   "outputs": [],
   "source": [
    "import sys\n",
    "sys.path.append(\"../\")\n",
    "import readout\n"
   ]
  },
  {
   "cell_type": "markdown",
   "metadata": {},
   "source": [
    "One can compare the HSF runtimes both for the traditional cutting and the joint cut. First, construct an example circuit for the traditional cutting"
   ]
  },
  {
   "cell_type": "code",
   "execution_count": 7,
   "metadata": {},
   "outputs": [
    {
     "name": "stdout",
     "output_type": "stream",
     "text": [
      "20\n",
      "0 h 0\n",
      "0 h 1\n",
      "0 h 2\n",
      "0 h 3\n",
      "0 h 4\n",
      "0 h 5\n",
      "0 h 6\n",
      "0 h 7\n",
      "0 h 8\n",
      "0 h 9\n",
      "0 h 10\n",
      "0 h 11\n",
      "0 h 12\n",
      "0 h 13\n",
      "0 h 14\n",
      "0 h 15\n",
      "0 h 16\n",
      "0 h 17\n",
      "0 h 18\n",
      "0 h 19\n",
      "1 is 9 10\n",
      "2 rzz 8 11 0.24\n",
      "3 rzz 9 11 1.52\n",
      "4 cz 8 10"
     ]
    }
   ],
   "source": [
    "!cat example_circuit_q20_noblock"
   ]
  },
  {
   "cell_type": "markdown",
   "metadata": {},
   "source": [
    "and adding brackets for a joint cut of a block of gates as:"
   ]
  },
  {
   "cell_type": "code",
   "execution_count": 8,
   "metadata": {},
   "outputs": [
    {
     "name": "stdout",
     "output_type": "stream",
     "text": [
      "20\n",
      "0 h 0\n",
      "0 h 1\n",
      "0 h 2\n",
      "0 h 3\n",
      "0 h 4\n",
      "0 h 5\n",
      "0 h 6\n",
      "0 h 7\n",
      "0 h 8\n",
      "0 h 9\n",
      "0 h 10\n",
      "0 h 11\n",
      "0 h 12\n",
      "0 h 13\n",
      "0 h 14\n",
      "0 h 15\n",
      "0 h 16\n",
      "0 h 17\n",
      "0 h 18\n",
      "0 h 19\n",
      "[1 is 9 10\n",
      "2 rzz 8 11 0.24\n",
      "3 rzz 9 11 1.52\n",
      "4 cz 8 10]"
     ]
    }
   ],
   "source": [
    "!cat example_circuit_q20_block"
   ]
  },
  {
   "cell_type": "markdown",
   "metadata": {},
   "source": [
    "Now run the two different HSF simulations. First the traditional cut, with parameters specified as follows:"
   ]
  },
  {
   "cell_type": "code",
   "execution_count": 9,
   "metadata": {},
   "outputs": [
    {
     "name": "stdout",
     "output_type": "stream",
     "text": [
      "Starting Cut (no block)...\n",
      "Completed: ./times_noblock_q20_rep0.tlog\n",
      "Starting Cut (no block)...\n",
      "Completed: ./times_noblock_q20_rep1.tlog\n",
      "Starting Cut (no block)...\n",
      "Completed: ./times_noblock_q20_rep2.tlog\n",
      "Starting Cut (no block)...\n",
      "Completed: ./times_noblock_q20_rep3.tlog\n",
      "Starting Cut (no block)...\n",
      "Completed: ./times_noblock_q20_rep4.tlog\n"
     ]
    }
   ],
   "source": [
    "%%bash\n",
    "#!/bin/bash\n",
    "\n",
    "d_flag=100\n",
    "q=20\n",
    "t=8\n",
    "r_block=4\n",
    "cutloc=9\n",
    "k_values=\"0,1,2,3,4,5,6,7,8,9\"\n",
    "reps=5\n",
    "\n",
    "circname_noblock=\"./example_circuit_q20_noblock\"\n",
    "\n",
    "for (( i=0; i<reps; i++)); do\n",
    "    #run example with cut but no block\n",
    "    filename0=\"./times_noblock_q20_rep${i}.tlog\"\n",
    "    amps0=\"./amplitudes_noblock_q20.log\"\n",
    "    echo \"Starting Cut (no block)...\"\n",
    "    ../../apps/qsimh_amplitudes.x -c ${circname_noblock} -d ${d_flag} -k ${k_values} -t ${t} -w 0 -p 0 -r ${r_block}  -i ../../circuits/bitstrings_q${q} -o \"$amps0\" -v 1 > \"$filename0\"\n",
    "    echo \"Completed: $filename0\"\n",
    "done"
   ]
  },
  {
   "cell_type": "markdown",
   "metadata": {},
   "source": [
    "Then, we do the same for the joint cut:"
   ]
  },
  {
   "cell_type": "code",
   "execution_count": 10,
   "metadata": {},
   "outputs": [
    {
     "name": "stdout",
     "output_type": "stream",
     "text": [
      "Starting Cut (block)...\n",
      "Completed: ./times_block_q20_rep0.tlog\n",
      "Starting Cut (block)...\n",
      "Completed: ./times_block_q20_rep1.tlog\n",
      "Starting Cut (block)...\n",
      "Completed: ./times_block_q20_rep2.tlog\n",
      "Starting Cut (block)...\n",
      "Completed: ./times_block_q20_rep3.tlog\n",
      "Starting Cut (block)...\n",
      "Completed: ./times_block_q20_rep4.tlog\n"
     ]
    }
   ],
   "source": [
    "%%bash\n",
    "#!/bin/bash\n",
    "\n",
    "d_flag=100\n",
    "q=20\n",
    "t=8\n",
    "r_block=1\n",
    "cutloc=9\n",
    "k_values=\"0,1,2,3,4,5,6,7,8,9\"\n",
    "reps=5\n",
    "\n",
    "circname_block=\"./example_circuit_q20_block\"\n",
    "\n",
    "for (( i=0; i<reps; i++)); do\n",
    "    #run example with cut but no block\n",
    "    filename0=\"./times_block_q20_rep${i}.tlog\"\n",
    "    amps0=\"./amplitudes_block_q20.log\"\n",
    "    echo \"Starting Cut (block)...\"\n",
    "    ../../apps/qsimh_amplitudes.x -c ${circname_block} -d 100 -k ${k_values} -t ${t} -w 0 -p 0 -r ${r_block}  -i ../../circuits/bitstrings_q${q} -o \"$amps0\" -v 1 > \"$filename0\"\n",
    "    echo \"Completed: $filename0\"\n",
    "done"
   ]
  },
  {
   "cell_type": "markdown",
   "metadata": {},
   "source": [
    "For reference, one can also run the `qsim` simulation without any cutting (note that qsim could not handle the input circuit files with brackets):"
   ]
  },
  {
   "cell_type": "code",
   "execution_count": 11,
   "metadata": {},
   "outputs": [
    {
     "name": "stdout",
     "output_type": "stream",
     "text": [
      "Starting No cut...\n",
      "Completed: ./times_nocut_q20_rep0.tlog\n",
      "Starting No cut...\n",
      "Completed: ./times_nocut_q20_rep1.tlog\n",
      "Starting No cut...\n",
      "Completed: ./times_nocut_q20_rep2.tlog\n",
      "Starting No cut...\n",
      "Completed: ./times_nocut_q20_rep3.tlog\n",
      "Starting No cut...\n",
      "Completed: ./times_nocut_q20_rep4.tlog\n"
     ]
    }
   ],
   "source": [
    "%%bash\n",
    "#!/bin/bash\n",
    "\n",
    "d_flag=100\n",
    "q=20\n",
    "t=8\n",
    "cutloc=9\n",
    "reps=5\n",
    "\n",
    "circname_noblock=\"./example_circuit_q20_noblock\"\n",
    "\n",
    "for (( i=0; i<reps; i++)); do\n",
    "    #run example with cut but no block\n",
    "    filename0=\"./times_nocut_q20_rep${i}.tlog\"\n",
    "    amps0=\"./amplitudes_nocut_q20.log\"\n",
    "    echo \"Starting No cut...\"\n",
    "    ../../apps/qsim_amplitudes.x -c ${circname_noblock} -d ${d_flag} -i ../../circuits/bitstrings_q${q} -o \"$amps0\" -v 2 -t ${t} > \"$filename0\"\n",
    "    echo \"Completed: $filename0\"\n",
    "done"
   ]
  },
  {
   "cell_type": "markdown",
   "metadata": {},
   "source": [
    "One can readout the output files and compare the runtimes as well as checking the amplitudes:"
   ]
  },
  {
   "cell_type": "code",
   "execution_count": 19,
   "metadata": {},
   "outputs": [
    {
     "name": "stdout",
     "output_type": "stream",
     "text": [
      "All fine within the given tolerance 1e-07\n",
      "--------Full times---------\n",
      "No cut: Mean =1.462634, std=0.07408775569552638\n",
      "Block: Mean =0.05619302, std=0.009142115711015695\n",
      "No Block: Mean =0.14016802, std=0.045074792069643536\n",
      "--------Sim times---------\n",
      "No cut: Mean =1.4560380000000002, std=0.07220976122381237\n",
      "Block: Mean =0.051568159999999995, std=0.00946799451554552\n",
      "No Block: Mean =0.13703904, std=0.04514148058278993\n",
      "-----Paths-----\n",
      "Block: 8\n",
      "No Block: 32\n",
      "--------Ratios--------\n",
      "S/J = 26.02874876630585\n",
      "T/J = 2.4944026856004533\n"
     ]
    }
   ],
   "source": [
    "\n",
    "#amplitude checking\n",
    "i=0\n",
    "num_amps=1000000\n",
    "t=8\n",
    "amps_nocut = \"./amplitudes_nocut_q20.log\"\n",
    "amps_block = \"./amplitudes_block_q20.log\"\n",
    "amps_noblock = \"./amplitudes_noblock_q20.log\"\n",
    "\n",
    "readout.compare_files(amps_block, amps_nocut)\n",
    "\n",
    "#print times\n",
    "reps=5\n",
    "suffix = \"\"\n",
    "path_nocut = \"./times_nocut_q20\"\n",
    "path_block = \"./times_block_q20\"\n",
    "path_noblock = \"./times_noblock_q20\"\n",
    "readout.print_diffs(reps, path_nocut, path_block, path_noblock, suffix)\n"
   ]
  },
  {
   "cell_type": "markdown",
   "metadata": {},
   "source": [
    "This tells us that the amplitudes are fine within the tolerance. It also compares the runtimes of all the different runs, also considering the number of paths for each the traditional and joint cutting as well as the ratios between the Schrödinger and Joint Cutting (S/J) as well as the traditional divicded by the joint cutting (T/J). In this small example, the joint cutting is already beneficial. "
   ]
  }
 ],
 "metadata": {
  "kernelspec": {
   "display_name": "Python 3",
   "language": "python",
   "name": "python3"
  },
  "language_info": {
   "codemirror_mode": {
    "name": "ipython",
    "version": 3
   },
   "file_extension": ".py",
   "mimetype": "text/x-python",
   "name": "python",
   "nbconvert_exporter": "python",
   "pygments_lexer": "ipython3",
   "version": "3.10.12"
  }
 },
 "nbformat": 4,
 "nbformat_minor": 2
}
